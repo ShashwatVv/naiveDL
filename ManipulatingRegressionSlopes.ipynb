{
  "nbformat": 4,
  "nbformat_minor": 0,
  "metadata": {
    "colab": {
      "name": "ManipulatingRegressionSlopes.ipynb",
      "provenance": [],
      "collapsed_sections": [],
      "authorship_tag": "ABX9TyPPKsBSQk3k9Lm+sr5Z+BRp",
      "include_colab_link": true
    },
    "kernelspec": {
      "name": "python3",
      "display_name": "Python 3"
    },
    "language_info": {
      "name": "python"
    }
  },
  "cells": [
    {
      "cell_type": "markdown",
      "metadata": {
        "id": "view-in-github",
        "colab_type": "text"
      },
      "source": [
        "<a href=\"https://colab.research.google.com/github/ShashwatVv/naiveDL/blob/main/ManipulatingRegressionSlopes.ipynb\" target=\"_parent\"><img src=\"https://colab.research.google.com/assets/colab-badge.svg\" alt=\"Open In Colab\"/></a>"
      ]
    },
    {
      "cell_type": "markdown",
      "source": [
        "Simple Linear Regression using ANN.\n",
        "continuing from [\"here\"](https://colab.research.google.com/drive/1zTy_7Z5rfKHPKTTCWyou5EemqL8yBqih)"
      ],
      "metadata": {
        "id": "85qRD0Z7JnL_"
      }
    },
    {
      "cell_type": "code",
      "source": [
        "#importing libraries\n",
        "import numpy as np\n",
        "import torch\n",
        "import torch.nn as nn\n",
        "import matplotlib.pyplot as plt\n",
        "\n",
        "from IPython import display\n",
        "display.set_matplotlib_formats('svg')\n",
        "print('modules imported')"
      ],
      "metadata": {
        "colab": {
          "base_uri": "https://localhost:8080/"
        },
        "id": "LKjbdJTmKi0a",
        "outputId": "1a390494-376a-4e19-fe87-e40d3a449e25"
      },
      "execution_count": 1,
      "outputs": [
        {
          "output_type": "stream",
          "name": "stdout",
          "text": [
            "modules imported\n"
          ]
        }
      ]
    },
    {
      "cell_type": "code",
      "source": [
        "def build_and_train(x, y, learning_rate, n_epochs):\n",
        "  \n",
        "  ## building\n",
        "  model = nn.Sequential(\n",
        "      nn.Linear(1,1),\n",
        "      nn.ReLu(),\n",
        "      nn.Linear(1,1)\n",
        "      )\n",
        "  \n",
        "  ## optimizer --> stochastic gradient descent\n",
        "  ## loss--> Mean Squared Error\n",
        "\n",
        "  loss_fun = nn.MSELoss()\n",
        "  optimizer = torch.optim.SGD(model.paramters(), lr = learning_rate)\n",
        "  \n",
        "  losses = torch.zeros(n_epochs)\n",
        "\n",
        "  for i in range(n_epochs):\n",
        "    y_hat = model(x)\n",
        "    ##forward prop has been done\n",
        "\n",
        "    loss = loss_fun(y_hat, y)\n",
        "    losses[i] = loss\n",
        "    ##loss has been computed\n",
        "\n",
        "    optimizer.zero_grad()\n",
        "    loss.backward()\n",
        "    optimizer.step()\n",
        "    ##back prop has been done\n",
        "\n",
        "    ## end for loop\n",
        "\n",
        "  predictions = model(X)\n",
        "\n",
        "  return predictions, losses\n",
        "  "
      ],
      "metadata": {
        "id": "vB_27t0pLAor"
      },
      "execution_count": 2,
      "outputs": []
    },
    {
      "cell_type": "code",
      "source": [
        "## we have to create data with a generic function such that the slope could be varied\n",
        "\n",
        "def create_data(slope, N, scale=2):\n",
        "  \n",
        "  x = torch.randn(N, 1)\n",
        "  y = slope*x + torch.randn(N,1)/scale\n",
        "\n",
        "  return x, y"
      ],
      "metadata": {
        "id": "cQ7448SMoYJM"
      },
      "execution_count": 3,
      "outputs": []
    },
    {
      "cell_type": "code",
      "source": [
        "x, y = create_data(0.75, 40)\n",
        "yhat, losses = build_and_train(x, y, 0.5, 500)\n"
      ],
      "metadata": {
        "id": "JcK17I39poI4"
      },
      "execution_count": null,
      "outputs": []
    }
  ]
}