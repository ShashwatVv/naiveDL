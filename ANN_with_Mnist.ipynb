{
  "nbformat": 4,
  "nbformat_minor": 0,
  "metadata": {
    "colab": {
      "name": "ANN with Mnist.ipynb",
      "provenance": [],
      "collapsed_sections": [],
      "authorship_tag": "ABX9TyPJ0Ll6gkWCOYTd63J/jMzq",
      "include_colab_link": true
    },
    "kernelspec": {
      "name": "python3",
      "display_name": "Python 3"
    },
    "language_info": {
      "name": "python"
    },
    "widgets": {
      "application/vnd.jupyter.widget-state+json": {
        "6b2e34cdcd6e46858aac7f748a429c7f": {
          "model_module": "@jupyter-widgets/controls",
          "model_name": "HBoxModel",
          "model_module_version": "1.5.0",
          "state": {
            "_dom_classes": [],
            "_model_module": "@jupyter-widgets/controls",
            "_model_module_version": "1.5.0",
            "_model_name": "HBoxModel",
            "_view_count": null,
            "_view_module": "@jupyter-widgets/controls",
            "_view_module_version": "1.5.0",
            "_view_name": "HBoxView",
            "box_style": "",
            "children": [
              "IPY_MODEL_60fa86980142458db127b89d27273066",
              "IPY_MODEL_9a1d87166017417fae2f35406d746659",
              "IPY_MODEL_d12c11af0914497b8fb56f870e0edf37"
            ],
            "layout": "IPY_MODEL_bda1d473d3b94fa9acbe94c609787fde"
          }
        },
        "60fa86980142458db127b89d27273066": {
          "model_module": "@jupyter-widgets/controls",
          "model_name": "HTMLModel",
          "model_module_version": "1.5.0",
          "state": {
            "_dom_classes": [],
            "_model_module": "@jupyter-widgets/controls",
            "_model_module_version": "1.5.0",
            "_model_name": "HTMLModel",
            "_view_count": null,
            "_view_module": "@jupyter-widgets/controls",
            "_view_module_version": "1.5.0",
            "_view_name": "HTMLView",
            "description": "",
            "description_tooltip": null,
            "layout": "IPY_MODEL_bd2a539867c948ba8d5f18c79f07c450",
            "placeholder": "​",
            "style": "IPY_MODEL_2867cd7eb3fa48a19d55a6f431a82c98",
            "value": ""
          }
        },
        "9a1d87166017417fae2f35406d746659": {
          "model_module": "@jupyter-widgets/controls",
          "model_name": "FloatProgressModel",
          "model_module_version": "1.5.0",
          "state": {
            "_dom_classes": [],
            "_model_module": "@jupyter-widgets/controls",
            "_model_module_version": "1.5.0",
            "_model_name": "FloatProgressModel",
            "_view_count": null,
            "_view_module": "@jupyter-widgets/controls",
            "_view_module_version": "1.5.0",
            "_view_name": "ProgressView",
            "bar_style": "success",
            "description": "",
            "description_tooltip": null,
            "layout": "IPY_MODEL_6b5b27dd22034ff3a375852361995739",
            "max": 9912422,
            "min": 0,
            "orientation": "horizontal",
            "style": "IPY_MODEL_32a334b0f7fe4bf38d6963957bb0fff9",
            "value": 9912422
          }
        },
        "d12c11af0914497b8fb56f870e0edf37": {
          "model_module": "@jupyter-widgets/controls",
          "model_name": "HTMLModel",
          "model_module_version": "1.5.0",
          "state": {
            "_dom_classes": [],
            "_model_module": "@jupyter-widgets/controls",
            "_model_module_version": "1.5.0",
            "_model_name": "HTMLModel",
            "_view_count": null,
            "_view_module": "@jupyter-widgets/controls",
            "_view_module_version": "1.5.0",
            "_view_name": "HTMLView",
            "description": "",
            "description_tooltip": null,
            "layout": "IPY_MODEL_d82ff92b23c641f2aa7247a83b5f89b6",
            "placeholder": "​",
            "style": "IPY_MODEL_612951b1cf3e4a89a36799cb8f22e4fe",
            "value": " 9913344/? [00:00&lt;00:00, 32754153.14it/s]"
          }
        },
        "bda1d473d3b94fa9acbe94c609787fde": {
          "model_module": "@jupyter-widgets/base",
          "model_name": "LayoutModel",
          "model_module_version": "1.2.0",
          "state": {
            "_model_module": "@jupyter-widgets/base",
            "_model_module_version": "1.2.0",
            "_model_name": "LayoutModel",
            "_view_count": null,
            "_view_module": "@jupyter-widgets/base",
            "_view_module_version": "1.2.0",
            "_view_name": "LayoutView",
            "align_content": null,
            "align_items": null,
            "align_self": null,
            "border": null,
            "bottom": null,
            "display": null,
            "flex": null,
            "flex_flow": null,
            "grid_area": null,
            "grid_auto_columns": null,
            "grid_auto_flow": null,
            "grid_auto_rows": null,
            "grid_column": null,
            "grid_gap": null,
            "grid_row": null,
            "grid_template_areas": null,
            "grid_template_columns": null,
            "grid_template_rows": null,
            "height": null,
            "justify_content": null,
            "justify_items": null,
            "left": null,
            "margin": null,
            "max_height": null,
            "max_width": null,
            "min_height": null,
            "min_width": null,
            "object_fit": null,
            "object_position": null,
            "order": null,
            "overflow": null,
            "overflow_x": null,
            "overflow_y": null,
            "padding": null,
            "right": null,
            "top": null,
            "visibility": null,
            "width": null
          }
        },
        "bd2a539867c948ba8d5f18c79f07c450": {
          "model_module": "@jupyter-widgets/base",
          "model_name": "LayoutModel",
          "model_module_version": "1.2.0",
          "state": {
            "_model_module": "@jupyter-widgets/base",
            "_model_module_version": "1.2.0",
            "_model_name": "LayoutModel",
            "_view_count": null,
            "_view_module": "@jupyter-widgets/base",
            "_view_module_version": "1.2.0",
            "_view_name": "LayoutView",
            "align_content": null,
            "align_items": null,
            "align_self": null,
            "border": null,
            "bottom": null,
            "display": null,
            "flex": null,
            "flex_flow": null,
            "grid_area": null,
            "grid_auto_columns": null,
            "grid_auto_flow": null,
            "grid_auto_rows": null,
            "grid_column": null,
            "grid_gap": null,
            "grid_row": null,
            "grid_template_areas": null,
            "grid_template_columns": null,
            "grid_template_rows": null,
            "height": null,
            "justify_content": null,
            "justify_items": null,
            "left": null,
            "margin": null,
            "max_height": null,
            "max_width": null,
            "min_height": null,
            "min_width": null,
            "object_fit": null,
            "object_position": null,
            "order": null,
            "overflow": null,
            "overflow_x": null,
            "overflow_y": null,
            "padding": null,
            "right": null,
            "top": null,
            "visibility": null,
            "width": null
          }
        },
        "2867cd7eb3fa48a19d55a6f431a82c98": {
          "model_module": "@jupyter-widgets/controls",
          "model_name": "DescriptionStyleModel",
          "model_module_version": "1.5.0",
          "state": {
            "_model_module": "@jupyter-widgets/controls",
            "_model_module_version": "1.5.0",
            "_model_name": "DescriptionStyleModel",
            "_view_count": null,
            "_view_module": "@jupyter-widgets/base",
            "_view_module_version": "1.2.0",
            "_view_name": "StyleView",
            "description_width": ""
          }
        },
        "6b5b27dd22034ff3a375852361995739": {
          "model_module": "@jupyter-widgets/base",
          "model_name": "LayoutModel",
          "model_module_version": "1.2.0",
          "state": {
            "_model_module": "@jupyter-widgets/base",
            "_model_module_version": "1.2.0",
            "_model_name": "LayoutModel",
            "_view_count": null,
            "_view_module": "@jupyter-widgets/base",
            "_view_module_version": "1.2.0",
            "_view_name": "LayoutView",
            "align_content": null,
            "align_items": null,
            "align_self": null,
            "border": null,
            "bottom": null,
            "display": null,
            "flex": null,
            "flex_flow": null,
            "grid_area": null,
            "grid_auto_columns": null,
            "grid_auto_flow": null,
            "grid_auto_rows": null,
            "grid_column": null,
            "grid_gap": null,
            "grid_row": null,
            "grid_template_areas": null,
            "grid_template_columns": null,
            "grid_template_rows": null,
            "height": null,
            "justify_content": null,
            "justify_items": null,
            "left": null,
            "margin": null,
            "max_height": null,
            "max_width": null,
            "min_height": null,
            "min_width": null,
            "object_fit": null,
            "object_position": null,
            "order": null,
            "overflow": null,
            "overflow_x": null,
            "overflow_y": null,
            "padding": null,
            "right": null,
            "top": null,
            "visibility": null,
            "width": null
          }
        },
        "32a334b0f7fe4bf38d6963957bb0fff9": {
          "model_module": "@jupyter-widgets/controls",
          "model_name": "ProgressStyleModel",
          "model_module_version": "1.5.0",
          "state": {
            "_model_module": "@jupyter-widgets/controls",
            "_model_module_version": "1.5.0",
            "_model_name": "ProgressStyleModel",
            "_view_count": null,
            "_view_module": "@jupyter-widgets/base",
            "_view_module_version": "1.2.0",
            "_view_name": "StyleView",
            "bar_color": null,
            "description_width": ""
          }
        },
        "d82ff92b23c641f2aa7247a83b5f89b6": {
          "model_module": "@jupyter-widgets/base",
          "model_name": "LayoutModel",
          "model_module_version": "1.2.0",
          "state": {
            "_model_module": "@jupyter-widgets/base",
            "_model_module_version": "1.2.0",
            "_model_name": "LayoutModel",
            "_view_count": null,
            "_view_module": "@jupyter-widgets/base",
            "_view_module_version": "1.2.0",
            "_view_name": "LayoutView",
            "align_content": null,
            "align_items": null,
            "align_self": null,
            "border": null,
            "bottom": null,
            "display": null,
            "flex": null,
            "flex_flow": null,
            "grid_area": null,
            "grid_auto_columns": null,
            "grid_auto_flow": null,
            "grid_auto_rows": null,
            "grid_column": null,
            "grid_gap": null,
            "grid_row": null,
            "grid_template_areas": null,
            "grid_template_columns": null,
            "grid_template_rows": null,
            "height": null,
            "justify_content": null,
            "justify_items": null,
            "left": null,
            "margin": null,
            "max_height": null,
            "max_width": null,
            "min_height": null,
            "min_width": null,
            "object_fit": null,
            "object_position": null,
            "order": null,
            "overflow": null,
            "overflow_x": null,
            "overflow_y": null,
            "padding": null,
            "right": null,
            "top": null,
            "visibility": null,
            "width": null
          }
        },
        "612951b1cf3e4a89a36799cb8f22e4fe": {
          "model_module": "@jupyter-widgets/controls",
          "model_name": "DescriptionStyleModel",
          "model_module_version": "1.5.0",
          "state": {
            "_model_module": "@jupyter-widgets/controls",
            "_model_module_version": "1.5.0",
            "_model_name": "DescriptionStyleModel",
            "_view_count": null,
            "_view_module": "@jupyter-widgets/base",
            "_view_module_version": "1.2.0",
            "_view_name": "StyleView",
            "description_width": ""
          }
        },
        "38136208baeb4706b1c0d3255731a95d": {
          "model_module": "@jupyter-widgets/controls",
          "model_name": "HBoxModel",
          "model_module_version": "1.5.0",
          "state": {
            "_dom_classes": [],
            "_model_module": "@jupyter-widgets/controls",
            "_model_module_version": "1.5.0",
            "_model_name": "HBoxModel",
            "_view_count": null,
            "_view_module": "@jupyter-widgets/controls",
            "_view_module_version": "1.5.0",
            "_view_name": "HBoxView",
            "box_style": "",
            "children": [
              "IPY_MODEL_c5c4ca6ac62a455c8386c962d2eb95a3",
              "IPY_MODEL_612f57a8c6bf4b15bf189c30a8df011d",
              "IPY_MODEL_41987b1be0b043a1a23a767a97b7d41f"
            ],
            "layout": "IPY_MODEL_b66a380e6a8440be8b480fb9c17e352d"
          }
        },
        "c5c4ca6ac62a455c8386c962d2eb95a3": {
          "model_module": "@jupyter-widgets/controls",
          "model_name": "HTMLModel",
          "model_module_version": "1.5.0",
          "state": {
            "_dom_classes": [],
            "_model_module": "@jupyter-widgets/controls",
            "_model_module_version": "1.5.0",
            "_model_name": "HTMLModel",
            "_view_count": null,
            "_view_module": "@jupyter-widgets/controls",
            "_view_module_version": "1.5.0",
            "_view_name": "HTMLView",
            "description": "",
            "description_tooltip": null,
            "layout": "IPY_MODEL_567ba84218344f21807f0ec7b1981cf0",
            "placeholder": "​",
            "style": "IPY_MODEL_13aa9bb6d92643eb94f98ecaee4a669b",
            "value": ""
          }
        },
        "612f57a8c6bf4b15bf189c30a8df011d": {
          "model_module": "@jupyter-widgets/controls",
          "model_name": "FloatProgressModel",
          "model_module_version": "1.5.0",
          "state": {
            "_dom_classes": [],
            "_model_module": "@jupyter-widgets/controls",
            "_model_module_version": "1.5.0",
            "_model_name": "FloatProgressModel",
            "_view_count": null,
            "_view_module": "@jupyter-widgets/controls",
            "_view_module_version": "1.5.0",
            "_view_name": "ProgressView",
            "bar_style": "success",
            "description": "",
            "description_tooltip": null,
            "layout": "IPY_MODEL_d66c7fb2598a4d8e85705fe9b6a7ebe0",
            "max": 28881,
            "min": 0,
            "orientation": "horizontal",
            "style": "IPY_MODEL_00807b36a3b14a34994c86f982070943",
            "value": 28881
          }
        },
        "41987b1be0b043a1a23a767a97b7d41f": {
          "model_module": "@jupyter-widgets/controls",
          "model_name": "HTMLModel",
          "model_module_version": "1.5.0",
          "state": {
            "_dom_classes": [],
            "_model_module": "@jupyter-widgets/controls",
            "_model_module_version": "1.5.0",
            "_model_name": "HTMLModel",
            "_view_count": null,
            "_view_module": "@jupyter-widgets/controls",
            "_view_module_version": "1.5.0",
            "_view_name": "HTMLView",
            "description": "",
            "description_tooltip": null,
            "layout": "IPY_MODEL_11ea1e9d759740268b2b3adda37a0d3f",
            "placeholder": "​",
            "style": "IPY_MODEL_147d4c2f27b444cf9a18d94d5639c2dc",
            "value": " 29696/? [00:00&lt;00:00, 713621.40it/s]"
          }
        },
        "b66a380e6a8440be8b480fb9c17e352d": {
          "model_module": "@jupyter-widgets/base",
          "model_name": "LayoutModel",
          "model_module_version": "1.2.0",
          "state": {
            "_model_module": "@jupyter-widgets/base",
            "_model_module_version": "1.2.0",
            "_model_name": "LayoutModel",
            "_view_count": null,
            "_view_module": "@jupyter-widgets/base",
            "_view_module_version": "1.2.0",
            "_view_name": "LayoutView",
            "align_content": null,
            "align_items": null,
            "align_self": null,
            "border": null,
            "bottom": null,
            "display": null,
            "flex": null,
            "flex_flow": null,
            "grid_area": null,
            "grid_auto_columns": null,
            "grid_auto_flow": null,
            "grid_auto_rows": null,
            "grid_column": null,
            "grid_gap": null,
            "grid_row": null,
            "grid_template_areas": null,
            "grid_template_columns": null,
            "grid_template_rows": null,
            "height": null,
            "justify_content": null,
            "justify_items": null,
            "left": null,
            "margin": null,
            "max_height": null,
            "max_width": null,
            "min_height": null,
            "min_width": null,
            "object_fit": null,
            "object_position": null,
            "order": null,
            "overflow": null,
            "overflow_x": null,
            "overflow_y": null,
            "padding": null,
            "right": null,
            "top": null,
            "visibility": null,
            "width": null
          }
        },
        "567ba84218344f21807f0ec7b1981cf0": {
          "model_module": "@jupyter-widgets/base",
          "model_name": "LayoutModel",
          "model_module_version": "1.2.0",
          "state": {
            "_model_module": "@jupyter-widgets/base",
            "_model_module_version": "1.2.0",
            "_model_name": "LayoutModel",
            "_view_count": null,
            "_view_module": "@jupyter-widgets/base",
            "_view_module_version": "1.2.0",
            "_view_name": "LayoutView",
            "align_content": null,
            "align_items": null,
            "align_self": null,
            "border": null,
            "bottom": null,
            "display": null,
            "flex": null,
            "flex_flow": null,
            "grid_area": null,
            "grid_auto_columns": null,
            "grid_auto_flow": null,
            "grid_auto_rows": null,
            "grid_column": null,
            "grid_gap": null,
            "grid_row": null,
            "grid_template_areas": null,
            "grid_template_columns": null,
            "grid_template_rows": null,
            "height": null,
            "justify_content": null,
            "justify_items": null,
            "left": null,
            "margin": null,
            "max_height": null,
            "max_width": null,
            "min_height": null,
            "min_width": null,
            "object_fit": null,
            "object_position": null,
            "order": null,
            "overflow": null,
            "overflow_x": null,
            "overflow_y": null,
            "padding": null,
            "right": null,
            "top": null,
            "visibility": null,
            "width": null
          }
        },
        "13aa9bb6d92643eb94f98ecaee4a669b": {
          "model_module": "@jupyter-widgets/controls",
          "model_name": "DescriptionStyleModel",
          "model_module_version": "1.5.0",
          "state": {
            "_model_module": "@jupyter-widgets/controls",
            "_model_module_version": "1.5.0",
            "_model_name": "DescriptionStyleModel",
            "_view_count": null,
            "_view_module": "@jupyter-widgets/base",
            "_view_module_version": "1.2.0",
            "_view_name": "StyleView",
            "description_width": ""
          }
        },
        "d66c7fb2598a4d8e85705fe9b6a7ebe0": {
          "model_module": "@jupyter-widgets/base",
          "model_name": "LayoutModel",
          "model_module_version": "1.2.0",
          "state": {
            "_model_module": "@jupyter-widgets/base",
            "_model_module_version": "1.2.0",
            "_model_name": "LayoutModel",
            "_view_count": null,
            "_view_module": "@jupyter-widgets/base",
            "_view_module_version": "1.2.0",
            "_view_name": "LayoutView",
            "align_content": null,
            "align_items": null,
            "align_self": null,
            "border": null,
            "bottom": null,
            "display": null,
            "flex": null,
            "flex_flow": null,
            "grid_area": null,
            "grid_auto_columns": null,
            "grid_auto_flow": null,
            "grid_auto_rows": null,
            "grid_column": null,
            "grid_gap": null,
            "grid_row": null,
            "grid_template_areas": null,
            "grid_template_columns": null,
            "grid_template_rows": null,
            "height": null,
            "justify_content": null,
            "justify_items": null,
            "left": null,
            "margin": null,
            "max_height": null,
            "max_width": null,
            "min_height": null,
            "min_width": null,
            "object_fit": null,
            "object_position": null,
            "order": null,
            "overflow": null,
            "overflow_x": null,
            "overflow_y": null,
            "padding": null,
            "right": null,
            "top": null,
            "visibility": null,
            "width": null
          }
        },
        "00807b36a3b14a34994c86f982070943": {
          "model_module": "@jupyter-widgets/controls",
          "model_name": "ProgressStyleModel",
          "model_module_version": "1.5.0",
          "state": {
            "_model_module": "@jupyter-widgets/controls",
            "_model_module_version": "1.5.0",
            "_model_name": "ProgressStyleModel",
            "_view_count": null,
            "_view_module": "@jupyter-widgets/base",
            "_view_module_version": "1.2.0",
            "_view_name": "StyleView",
            "bar_color": null,
            "description_width": ""
          }
        },
        "11ea1e9d759740268b2b3adda37a0d3f": {
          "model_module": "@jupyter-widgets/base",
          "model_name": "LayoutModel",
          "model_module_version": "1.2.0",
          "state": {
            "_model_module": "@jupyter-widgets/base",
            "_model_module_version": "1.2.0",
            "_model_name": "LayoutModel",
            "_view_count": null,
            "_view_module": "@jupyter-widgets/base",
            "_view_module_version": "1.2.0",
            "_view_name": "LayoutView",
            "align_content": null,
            "align_items": null,
            "align_self": null,
            "border": null,
            "bottom": null,
            "display": null,
            "flex": null,
            "flex_flow": null,
            "grid_area": null,
            "grid_auto_columns": null,
            "grid_auto_flow": null,
            "grid_auto_rows": null,
            "grid_column": null,
            "grid_gap": null,
            "grid_row": null,
            "grid_template_areas": null,
            "grid_template_columns": null,
            "grid_template_rows": null,
            "height": null,
            "justify_content": null,
            "justify_items": null,
            "left": null,
            "margin": null,
            "max_height": null,
            "max_width": null,
            "min_height": null,
            "min_width": null,
            "object_fit": null,
            "object_position": null,
            "order": null,
            "overflow": null,
            "overflow_x": null,
            "overflow_y": null,
            "padding": null,
            "right": null,
            "top": null,
            "visibility": null,
            "width": null
          }
        },
        "147d4c2f27b444cf9a18d94d5639c2dc": {
          "model_module": "@jupyter-widgets/controls",
          "model_name": "DescriptionStyleModel",
          "model_module_version": "1.5.0",
          "state": {
            "_model_module": "@jupyter-widgets/controls",
            "_model_module_version": "1.5.0",
            "_model_name": "DescriptionStyleModel",
            "_view_count": null,
            "_view_module": "@jupyter-widgets/base",
            "_view_module_version": "1.2.0",
            "_view_name": "StyleView",
            "description_width": ""
          }
        },
        "7b7e9940a7824befa527785892aba099": {
          "model_module": "@jupyter-widgets/controls",
          "model_name": "HBoxModel",
          "model_module_version": "1.5.0",
          "state": {
            "_dom_classes": [],
            "_model_module": "@jupyter-widgets/controls",
            "_model_module_version": "1.5.0",
            "_model_name": "HBoxModel",
            "_view_count": null,
            "_view_module": "@jupyter-widgets/controls",
            "_view_module_version": "1.5.0",
            "_view_name": "HBoxView",
            "box_style": "",
            "children": [
              "IPY_MODEL_d7da30d46db84876ac3af2cbc2791243",
              "IPY_MODEL_5033dd7622d04f458b6c4433d2f00494",
              "IPY_MODEL_587157c245c74a2e84929581e544be41"
            ],
            "layout": "IPY_MODEL_6744a73b42654b2cbc10827fd60bd2a1"
          }
        },
        "d7da30d46db84876ac3af2cbc2791243": {
          "model_module": "@jupyter-widgets/controls",
          "model_name": "HTMLModel",
          "model_module_version": "1.5.0",
          "state": {
            "_dom_classes": [],
            "_model_module": "@jupyter-widgets/controls",
            "_model_module_version": "1.5.0",
            "_model_name": "HTMLModel",
            "_view_count": null,
            "_view_module": "@jupyter-widgets/controls",
            "_view_module_version": "1.5.0",
            "_view_name": "HTMLView",
            "description": "",
            "description_tooltip": null,
            "layout": "IPY_MODEL_f24552ee853e4223929ab1a841c59169",
            "placeholder": "​",
            "style": "IPY_MODEL_cfd9274937284f82933d25f9942534a3",
            "value": ""
          }
        },
        "5033dd7622d04f458b6c4433d2f00494": {
          "model_module": "@jupyter-widgets/controls",
          "model_name": "FloatProgressModel",
          "model_module_version": "1.5.0",
          "state": {
            "_dom_classes": [],
            "_model_module": "@jupyter-widgets/controls",
            "_model_module_version": "1.5.0",
            "_model_name": "FloatProgressModel",
            "_view_count": null,
            "_view_module": "@jupyter-widgets/controls",
            "_view_module_version": "1.5.0",
            "_view_name": "ProgressView",
            "bar_style": "success",
            "description": "",
            "description_tooltip": null,
            "layout": "IPY_MODEL_cccc56e1ff91484ba5d7a079f9b2f10b",
            "max": 1648877,
            "min": 0,
            "orientation": "horizontal",
            "style": "IPY_MODEL_b082a7a30b0d4c168aa61c85d09f2895",
            "value": 1648877
          }
        },
        "587157c245c74a2e84929581e544be41": {
          "model_module": "@jupyter-widgets/controls",
          "model_name": "HTMLModel",
          "model_module_version": "1.5.0",
          "state": {
            "_dom_classes": [],
            "_model_module": "@jupyter-widgets/controls",
            "_model_module_version": "1.5.0",
            "_model_name": "HTMLModel",
            "_view_count": null,
            "_view_module": "@jupyter-widgets/controls",
            "_view_module_version": "1.5.0",
            "_view_name": "HTMLView",
            "description": "",
            "description_tooltip": null,
            "layout": "IPY_MODEL_918a0af64ae24735b80cad6b6045045c",
            "placeholder": "​",
            "style": "IPY_MODEL_b9ffeb52465b405b9b71cf1a6b3621cd",
            "value": " 1649664/? [00:00&lt;00:00, 24774132.76it/s]"
          }
        },
        "6744a73b42654b2cbc10827fd60bd2a1": {
          "model_module": "@jupyter-widgets/base",
          "model_name": "LayoutModel",
          "model_module_version": "1.2.0",
          "state": {
            "_model_module": "@jupyter-widgets/base",
            "_model_module_version": "1.2.0",
            "_model_name": "LayoutModel",
            "_view_count": null,
            "_view_module": "@jupyter-widgets/base",
            "_view_module_version": "1.2.0",
            "_view_name": "LayoutView",
            "align_content": null,
            "align_items": null,
            "align_self": null,
            "border": null,
            "bottom": null,
            "display": null,
            "flex": null,
            "flex_flow": null,
            "grid_area": null,
            "grid_auto_columns": null,
            "grid_auto_flow": null,
            "grid_auto_rows": null,
            "grid_column": null,
            "grid_gap": null,
            "grid_row": null,
            "grid_template_areas": null,
            "grid_template_columns": null,
            "grid_template_rows": null,
            "height": null,
            "justify_content": null,
            "justify_items": null,
            "left": null,
            "margin": null,
            "max_height": null,
            "max_width": null,
            "min_height": null,
            "min_width": null,
            "object_fit": null,
            "object_position": null,
            "order": null,
            "overflow": null,
            "overflow_x": null,
            "overflow_y": null,
            "padding": null,
            "right": null,
            "top": null,
            "visibility": null,
            "width": null
          }
        },
        "f24552ee853e4223929ab1a841c59169": {
          "model_module": "@jupyter-widgets/base",
          "model_name": "LayoutModel",
          "model_module_version": "1.2.0",
          "state": {
            "_model_module": "@jupyter-widgets/base",
            "_model_module_version": "1.2.0",
            "_model_name": "LayoutModel",
            "_view_count": null,
            "_view_module": "@jupyter-widgets/base",
            "_view_module_version": "1.2.0",
            "_view_name": "LayoutView",
            "align_content": null,
            "align_items": null,
            "align_self": null,
            "border": null,
            "bottom": null,
            "display": null,
            "flex": null,
            "flex_flow": null,
            "grid_area": null,
            "grid_auto_columns": null,
            "grid_auto_flow": null,
            "grid_auto_rows": null,
            "grid_column": null,
            "grid_gap": null,
            "grid_row": null,
            "grid_template_areas": null,
            "grid_template_columns": null,
            "grid_template_rows": null,
            "height": null,
            "justify_content": null,
            "justify_items": null,
            "left": null,
            "margin": null,
            "max_height": null,
            "max_width": null,
            "min_height": null,
            "min_width": null,
            "object_fit": null,
            "object_position": null,
            "order": null,
            "overflow": null,
            "overflow_x": null,
            "overflow_y": null,
            "padding": null,
            "right": null,
            "top": null,
            "visibility": null,
            "width": null
          }
        },
        "cfd9274937284f82933d25f9942534a3": {
          "model_module": "@jupyter-widgets/controls",
          "model_name": "DescriptionStyleModel",
          "model_module_version": "1.5.0",
          "state": {
            "_model_module": "@jupyter-widgets/controls",
            "_model_module_version": "1.5.0",
            "_model_name": "DescriptionStyleModel",
            "_view_count": null,
            "_view_module": "@jupyter-widgets/base",
            "_view_module_version": "1.2.0",
            "_view_name": "StyleView",
            "description_width": ""
          }
        },
        "cccc56e1ff91484ba5d7a079f9b2f10b": {
          "model_module": "@jupyter-widgets/base",
          "model_name": "LayoutModel",
          "model_module_version": "1.2.0",
          "state": {
            "_model_module": "@jupyter-widgets/base",
            "_model_module_version": "1.2.0",
            "_model_name": "LayoutModel",
            "_view_count": null,
            "_view_module": "@jupyter-widgets/base",
            "_view_module_version": "1.2.0",
            "_view_name": "LayoutView",
            "align_content": null,
            "align_items": null,
            "align_self": null,
            "border": null,
            "bottom": null,
            "display": null,
            "flex": null,
            "flex_flow": null,
            "grid_area": null,
            "grid_auto_columns": null,
            "grid_auto_flow": null,
            "grid_auto_rows": null,
            "grid_column": null,
            "grid_gap": null,
            "grid_row": null,
            "grid_template_areas": null,
            "grid_template_columns": null,
            "grid_template_rows": null,
            "height": null,
            "justify_content": null,
            "justify_items": null,
            "left": null,
            "margin": null,
            "max_height": null,
            "max_width": null,
            "min_height": null,
            "min_width": null,
            "object_fit": null,
            "object_position": null,
            "order": null,
            "overflow": null,
            "overflow_x": null,
            "overflow_y": null,
            "padding": null,
            "right": null,
            "top": null,
            "visibility": null,
            "width": null
          }
        },
        "b082a7a30b0d4c168aa61c85d09f2895": {
          "model_module": "@jupyter-widgets/controls",
          "model_name": "ProgressStyleModel",
          "model_module_version": "1.5.0",
          "state": {
            "_model_module": "@jupyter-widgets/controls",
            "_model_module_version": "1.5.0",
            "_model_name": "ProgressStyleModel",
            "_view_count": null,
            "_view_module": "@jupyter-widgets/base",
            "_view_module_version": "1.2.0",
            "_view_name": "StyleView",
            "bar_color": null,
            "description_width": ""
          }
        },
        "918a0af64ae24735b80cad6b6045045c": {
          "model_module": "@jupyter-widgets/base",
          "model_name": "LayoutModel",
          "model_module_version": "1.2.0",
          "state": {
            "_model_module": "@jupyter-widgets/base",
            "_model_module_version": "1.2.0",
            "_model_name": "LayoutModel",
            "_view_count": null,
            "_view_module": "@jupyter-widgets/base",
            "_view_module_version": "1.2.0",
            "_view_name": "LayoutView",
            "align_content": null,
            "align_items": null,
            "align_self": null,
            "border": null,
            "bottom": null,
            "display": null,
            "flex": null,
            "flex_flow": null,
            "grid_area": null,
            "grid_auto_columns": null,
            "grid_auto_flow": null,
            "grid_auto_rows": null,
            "grid_column": null,
            "grid_gap": null,
            "grid_row": null,
            "grid_template_areas": null,
            "grid_template_columns": null,
            "grid_template_rows": null,
            "height": null,
            "justify_content": null,
            "justify_items": null,
            "left": null,
            "margin": null,
            "max_height": null,
            "max_width": null,
            "min_height": null,
            "min_width": null,
            "object_fit": null,
            "object_position": null,
            "order": null,
            "overflow": null,
            "overflow_x": null,
            "overflow_y": null,
            "padding": null,
            "right": null,
            "top": null,
            "visibility": null,
            "width": null
          }
        },
        "b9ffeb52465b405b9b71cf1a6b3621cd": {
          "model_module": "@jupyter-widgets/controls",
          "model_name": "DescriptionStyleModel",
          "model_module_version": "1.5.0",
          "state": {
            "_model_module": "@jupyter-widgets/controls",
            "_model_module_version": "1.5.0",
            "_model_name": "DescriptionStyleModel",
            "_view_count": null,
            "_view_module": "@jupyter-widgets/base",
            "_view_module_version": "1.2.0",
            "_view_name": "StyleView",
            "description_width": ""
          }
        },
        "a44156f6635344acadfa11349fa88170": {
          "model_module": "@jupyter-widgets/controls",
          "model_name": "HBoxModel",
          "model_module_version": "1.5.0",
          "state": {
            "_dom_classes": [],
            "_model_module": "@jupyter-widgets/controls",
            "_model_module_version": "1.5.0",
            "_model_name": "HBoxModel",
            "_view_count": null,
            "_view_module": "@jupyter-widgets/controls",
            "_view_module_version": "1.5.0",
            "_view_name": "HBoxView",
            "box_style": "",
            "children": [
              "IPY_MODEL_c0ccbd2c26cc402fa4e24417f9737c2a",
              "IPY_MODEL_c0df9e4c200a43458cff1f7ed2b85f38",
              "IPY_MODEL_83660c3b0e234e4981ad65b0adb8bfe0"
            ],
            "layout": "IPY_MODEL_8bad81b2ecc045abb5c4c1764b2a0874"
          }
        },
        "c0ccbd2c26cc402fa4e24417f9737c2a": {
          "model_module": "@jupyter-widgets/controls",
          "model_name": "HTMLModel",
          "model_module_version": "1.5.0",
          "state": {
            "_dom_classes": [],
            "_model_module": "@jupyter-widgets/controls",
            "_model_module_version": "1.5.0",
            "_model_name": "HTMLModel",
            "_view_count": null,
            "_view_module": "@jupyter-widgets/controls",
            "_view_module_version": "1.5.0",
            "_view_name": "HTMLView",
            "description": "",
            "description_tooltip": null,
            "layout": "IPY_MODEL_4479618286e442feab60087afcffb0d0",
            "placeholder": "​",
            "style": "IPY_MODEL_e7f6a90cd9154dddbb3ccd9bd0675698",
            "value": ""
          }
        },
        "c0df9e4c200a43458cff1f7ed2b85f38": {
          "model_module": "@jupyter-widgets/controls",
          "model_name": "FloatProgressModel",
          "model_module_version": "1.5.0",
          "state": {
            "_dom_classes": [],
            "_model_module": "@jupyter-widgets/controls",
            "_model_module_version": "1.5.0",
            "_model_name": "FloatProgressModel",
            "_view_count": null,
            "_view_module": "@jupyter-widgets/controls",
            "_view_module_version": "1.5.0",
            "_view_name": "ProgressView",
            "bar_style": "success",
            "description": "",
            "description_tooltip": null,
            "layout": "IPY_MODEL_976d320228354de69149f47ea82571b2",
            "max": 4542,
            "min": 0,
            "orientation": "horizontal",
            "style": "IPY_MODEL_705082fc22a44f349cc4213b1fbb8120",
            "value": 4542
          }
        },
        "83660c3b0e234e4981ad65b0adb8bfe0": {
          "model_module": "@jupyter-widgets/controls",
          "model_name": "HTMLModel",
          "model_module_version": "1.5.0",
          "state": {
            "_dom_classes": [],
            "_model_module": "@jupyter-widgets/controls",
            "_model_module_version": "1.5.0",
            "_model_name": "HTMLModel",
            "_view_count": null,
            "_view_module": "@jupyter-widgets/controls",
            "_view_module_version": "1.5.0",
            "_view_name": "HTMLView",
            "description": "",
            "description_tooltip": null,
            "layout": "IPY_MODEL_3a6a0f13834b48799624c44ae1c40e3a",
            "placeholder": "​",
            "style": "IPY_MODEL_8ecda793b4354fc6874057049f16d449",
            "value": " 5120/? [00:00&lt;00:00, 129019.07it/s]"
          }
        },
        "8bad81b2ecc045abb5c4c1764b2a0874": {
          "model_module": "@jupyter-widgets/base",
          "model_name": "LayoutModel",
          "model_module_version": "1.2.0",
          "state": {
            "_model_module": "@jupyter-widgets/base",
            "_model_module_version": "1.2.0",
            "_model_name": "LayoutModel",
            "_view_count": null,
            "_view_module": "@jupyter-widgets/base",
            "_view_module_version": "1.2.0",
            "_view_name": "LayoutView",
            "align_content": null,
            "align_items": null,
            "align_self": null,
            "border": null,
            "bottom": null,
            "display": null,
            "flex": null,
            "flex_flow": null,
            "grid_area": null,
            "grid_auto_columns": null,
            "grid_auto_flow": null,
            "grid_auto_rows": null,
            "grid_column": null,
            "grid_gap": null,
            "grid_row": null,
            "grid_template_areas": null,
            "grid_template_columns": null,
            "grid_template_rows": null,
            "height": null,
            "justify_content": null,
            "justify_items": null,
            "left": null,
            "margin": null,
            "max_height": null,
            "max_width": null,
            "min_height": null,
            "min_width": null,
            "object_fit": null,
            "object_position": null,
            "order": null,
            "overflow": null,
            "overflow_x": null,
            "overflow_y": null,
            "padding": null,
            "right": null,
            "top": null,
            "visibility": null,
            "width": null
          }
        },
        "4479618286e442feab60087afcffb0d0": {
          "model_module": "@jupyter-widgets/base",
          "model_name": "LayoutModel",
          "model_module_version": "1.2.0",
          "state": {
            "_model_module": "@jupyter-widgets/base",
            "_model_module_version": "1.2.0",
            "_model_name": "LayoutModel",
            "_view_count": null,
            "_view_module": "@jupyter-widgets/base",
            "_view_module_version": "1.2.0",
            "_view_name": "LayoutView",
            "align_content": null,
            "align_items": null,
            "align_self": null,
            "border": null,
            "bottom": null,
            "display": null,
            "flex": null,
            "flex_flow": null,
            "grid_area": null,
            "grid_auto_columns": null,
            "grid_auto_flow": null,
            "grid_auto_rows": null,
            "grid_column": null,
            "grid_gap": null,
            "grid_row": null,
            "grid_template_areas": null,
            "grid_template_columns": null,
            "grid_template_rows": null,
            "height": null,
            "justify_content": null,
            "justify_items": null,
            "left": null,
            "margin": null,
            "max_height": null,
            "max_width": null,
            "min_height": null,
            "min_width": null,
            "object_fit": null,
            "object_position": null,
            "order": null,
            "overflow": null,
            "overflow_x": null,
            "overflow_y": null,
            "padding": null,
            "right": null,
            "top": null,
            "visibility": null,
            "width": null
          }
        },
        "e7f6a90cd9154dddbb3ccd9bd0675698": {
          "model_module": "@jupyter-widgets/controls",
          "model_name": "DescriptionStyleModel",
          "model_module_version": "1.5.0",
          "state": {
            "_model_module": "@jupyter-widgets/controls",
            "_model_module_version": "1.5.0",
            "_model_name": "DescriptionStyleModel",
            "_view_count": null,
            "_view_module": "@jupyter-widgets/base",
            "_view_module_version": "1.2.0",
            "_view_name": "StyleView",
            "description_width": ""
          }
        },
        "976d320228354de69149f47ea82571b2": {
          "model_module": "@jupyter-widgets/base",
          "model_name": "LayoutModel",
          "model_module_version": "1.2.0",
          "state": {
            "_model_module": "@jupyter-widgets/base",
            "_model_module_version": "1.2.0",
            "_model_name": "LayoutModel",
            "_view_count": null,
            "_view_module": "@jupyter-widgets/base",
            "_view_module_version": "1.2.0",
            "_view_name": "LayoutView",
            "align_content": null,
            "align_items": null,
            "align_self": null,
            "border": null,
            "bottom": null,
            "display": null,
            "flex": null,
            "flex_flow": null,
            "grid_area": null,
            "grid_auto_columns": null,
            "grid_auto_flow": null,
            "grid_auto_rows": null,
            "grid_column": null,
            "grid_gap": null,
            "grid_row": null,
            "grid_template_areas": null,
            "grid_template_columns": null,
            "grid_template_rows": null,
            "height": null,
            "justify_content": null,
            "justify_items": null,
            "left": null,
            "margin": null,
            "max_height": null,
            "max_width": null,
            "min_height": null,
            "min_width": null,
            "object_fit": null,
            "object_position": null,
            "order": null,
            "overflow": null,
            "overflow_x": null,
            "overflow_y": null,
            "padding": null,
            "right": null,
            "top": null,
            "visibility": null,
            "width": null
          }
        },
        "705082fc22a44f349cc4213b1fbb8120": {
          "model_module": "@jupyter-widgets/controls",
          "model_name": "ProgressStyleModel",
          "model_module_version": "1.5.0",
          "state": {
            "_model_module": "@jupyter-widgets/controls",
            "_model_module_version": "1.5.0",
            "_model_name": "ProgressStyleModel",
            "_view_count": null,
            "_view_module": "@jupyter-widgets/base",
            "_view_module_version": "1.2.0",
            "_view_name": "StyleView",
            "bar_color": null,
            "description_width": ""
          }
        },
        "3a6a0f13834b48799624c44ae1c40e3a": {
          "model_module": "@jupyter-widgets/base",
          "model_name": "LayoutModel",
          "model_module_version": "1.2.0",
          "state": {
            "_model_module": "@jupyter-widgets/base",
            "_model_module_version": "1.2.0",
            "_model_name": "LayoutModel",
            "_view_count": null,
            "_view_module": "@jupyter-widgets/base",
            "_view_module_version": "1.2.0",
            "_view_name": "LayoutView",
            "align_content": null,
            "align_items": null,
            "align_self": null,
            "border": null,
            "bottom": null,
            "display": null,
            "flex": null,
            "flex_flow": null,
            "grid_area": null,
            "grid_auto_columns": null,
            "grid_auto_flow": null,
            "grid_auto_rows": null,
            "grid_column": null,
            "grid_gap": null,
            "grid_row": null,
            "grid_template_areas": null,
            "grid_template_columns": null,
            "grid_template_rows": null,
            "height": null,
            "justify_content": null,
            "justify_items": null,
            "left": null,
            "margin": null,
            "max_height": null,
            "max_width": null,
            "min_height": null,
            "min_width": null,
            "object_fit": null,
            "object_position": null,
            "order": null,
            "overflow": null,
            "overflow_x": null,
            "overflow_y": null,
            "padding": null,
            "right": null,
            "top": null,
            "visibility": null,
            "width": null
          }
        },
        "8ecda793b4354fc6874057049f16d449": {
          "model_module": "@jupyter-widgets/controls",
          "model_name": "DescriptionStyleModel",
          "model_module_version": "1.5.0",
          "state": {
            "_model_module": "@jupyter-widgets/controls",
            "_model_module_version": "1.5.0",
            "_model_name": "DescriptionStyleModel",
            "_view_count": null,
            "_view_module": "@jupyter-widgets/base",
            "_view_module_version": "1.2.0",
            "_view_name": "StyleView",
            "description_width": ""
          }
        }
      }
    }
  },
  "cells": [
    {
      "cell_type": "markdown",
      "metadata": {
        "id": "view-in-github",
        "colab_type": "text"
      },
      "source": [
        "<a href=\"https://colab.research.google.com/github/ShashwatVv/naiveDL/blob/main/ANN_with_Mnist.ipynb\" target=\"_parent\"><img src=\"https://colab.research.google.com/assets/colab-badge.svg\" alt=\"Open In Colab\"/></a>"
      ]
    },
    {
      "cell_type": "markdown",
      "source": [
        "## Will be training an ANN on `mnist` datsset"
      ],
      "metadata": {
        "id": "oKj3CAXLl0aO"
      }
    },
    {
      "cell_type": "code",
      "source": [
        "from google.colab import drive"
      ],
      "metadata": {
        "id": "2eT5cbhXniZz"
      },
      "execution_count": null,
      "outputs": []
    },
    {
      "cell_type": "code",
      "source": [
        "drive.mount('/content/drive')"
      ],
      "metadata": {
        "colab": {
          "base_uri": "https://localhost:8080/"
        },
        "id": "FyIYYZWhnu1s",
        "outputId": "9e112548-80ff-4fe3-df9f-10cf0ed7f92c"
      },
      "execution_count": null,
      "outputs": [
        {
          "output_type": "stream",
          "name": "stdout",
          "text": [
            "Mounted at /content/drive\n"
          ]
        }
      ]
    },
    {
      "cell_type": "code",
      "source": [
        "## Imports\n",
        "import numpy as np, pandas as pd\n",
        "import matplotlib.pyplot as plt\n",
        "from sklearn.metrics import accuracy_score\n",
        "import torch\n",
        "import torch.nn as nn ##neural network module\n",
        "import torch.nn.functional as F\n",
        "\n",
        "from torch.utils.data import DataLoader\n",
        "from torchvision import datasets, transforms\n",
        "\n",
        "import time\n"
      ],
      "metadata": {
        "id": "liKpufvNl_DY"
      },
      "execution_count": null,
      "outputs": []
    },
    {
      "cell_type": "code",
      "source": [
        "## Libraries have been imported.\n",
        "## let's create a transform var\n",
        "\n",
        "t = transforms.ToTensor()"
      ],
      "metadata": {
        "id": "5tBAbOfFmcCG"
      },
      "execution_count": null,
      "outputs": []
    },
    {
      "cell_type": "code",
      "source": [
        "## load the training and testing data\n",
        "path= 'content/drive/Mydrive/ANN MNIST/'\n",
        "train_data = datasets.MNIST(root=path, train=True, download=True, transform=t)"
      ],
      "metadata": {
        "colab": {
          "base_uri": "https://localhost:8080/",
          "height": 422,
          "referenced_widgets": [
            "6b2e34cdcd6e46858aac7f748a429c7f",
            "60fa86980142458db127b89d27273066",
            "9a1d87166017417fae2f35406d746659",
            "d12c11af0914497b8fb56f870e0edf37",
            "bda1d473d3b94fa9acbe94c609787fde",
            "bd2a539867c948ba8d5f18c79f07c450",
            "2867cd7eb3fa48a19d55a6f431a82c98",
            "6b5b27dd22034ff3a375852361995739",
            "32a334b0f7fe4bf38d6963957bb0fff9",
            "d82ff92b23c641f2aa7247a83b5f89b6",
            "612951b1cf3e4a89a36799cb8f22e4fe",
            "38136208baeb4706b1c0d3255731a95d",
            "c5c4ca6ac62a455c8386c962d2eb95a3",
            "612f57a8c6bf4b15bf189c30a8df011d",
            "41987b1be0b043a1a23a767a97b7d41f",
            "b66a380e6a8440be8b480fb9c17e352d",
            "567ba84218344f21807f0ec7b1981cf0",
            "13aa9bb6d92643eb94f98ecaee4a669b",
            "d66c7fb2598a4d8e85705fe9b6a7ebe0",
            "00807b36a3b14a34994c86f982070943",
            "11ea1e9d759740268b2b3adda37a0d3f",
            "147d4c2f27b444cf9a18d94d5639c2dc",
            "7b7e9940a7824befa527785892aba099",
            "d7da30d46db84876ac3af2cbc2791243",
            "5033dd7622d04f458b6c4433d2f00494",
            "587157c245c74a2e84929581e544be41",
            "6744a73b42654b2cbc10827fd60bd2a1",
            "f24552ee853e4223929ab1a841c59169",
            "cfd9274937284f82933d25f9942534a3",
            "cccc56e1ff91484ba5d7a079f9b2f10b",
            "b082a7a30b0d4c168aa61c85d09f2895",
            "918a0af64ae24735b80cad6b6045045c",
            "b9ffeb52465b405b9b71cf1a6b3621cd",
            "a44156f6635344acadfa11349fa88170",
            "c0ccbd2c26cc402fa4e24417f9737c2a",
            "c0df9e4c200a43458cff1f7ed2b85f38",
            "83660c3b0e234e4981ad65b0adb8bfe0",
            "8bad81b2ecc045abb5c4c1764b2a0874",
            "4479618286e442feab60087afcffb0d0",
            "e7f6a90cd9154dddbb3ccd9bd0675698",
            "976d320228354de69149f47ea82571b2",
            "705082fc22a44f349cc4213b1fbb8120",
            "3a6a0f13834b48799624c44ae1c40e3a",
            "8ecda793b4354fc6874057049f16d449"
          ]
        },
        "id": "7NY1cmJUm-R4",
        "outputId": "eacbdbe1-33e8-46e0-9887-d6d79fddb979"
      },
      "execution_count": null,
      "outputs": [
        {
          "output_type": "stream",
          "name": "stdout",
          "text": [
            "Downloading http://yann.lecun.com/exdb/mnist/train-images-idx3-ubyte.gz\n",
            "Downloading http://yann.lecun.com/exdb/mnist/train-images-idx3-ubyte.gz to content/drive/Mydrive/ANN MNIST/MNIST/raw/train-images-idx3-ubyte.gz\n"
          ]
        },
        {
          "output_type": "display_data",
          "data": {
            "text/plain": [
              "  0%|          | 0/9912422 [00:00<?, ?it/s]"
            ],
            "application/vnd.jupyter.widget-view+json": {
              "version_major": 2,
              "version_minor": 0,
              "model_id": "6b2e34cdcd6e46858aac7f748a429c7f"
            }
          },
          "metadata": {}
        },
        {
          "output_type": "stream",
          "name": "stdout",
          "text": [
            "Extracting content/drive/Mydrive/ANN MNIST/MNIST/raw/train-images-idx3-ubyte.gz to content/drive/Mydrive/ANN MNIST/MNIST/raw\n",
            "\n",
            "Downloading http://yann.lecun.com/exdb/mnist/train-labels-idx1-ubyte.gz\n",
            "Downloading http://yann.lecun.com/exdb/mnist/train-labels-idx1-ubyte.gz to content/drive/Mydrive/ANN MNIST/MNIST/raw/train-labels-idx1-ubyte.gz\n"
          ]
        },
        {
          "output_type": "display_data",
          "data": {
            "text/plain": [
              "  0%|          | 0/28881 [00:00<?, ?it/s]"
            ],
            "application/vnd.jupyter.widget-view+json": {
              "version_major": 2,
              "version_minor": 0,
              "model_id": "38136208baeb4706b1c0d3255731a95d"
            }
          },
          "metadata": {}
        },
        {
          "output_type": "stream",
          "name": "stdout",
          "text": [
            "Extracting content/drive/Mydrive/ANN MNIST/MNIST/raw/train-labels-idx1-ubyte.gz to content/drive/Mydrive/ANN MNIST/MNIST/raw\n",
            "\n",
            "Downloading http://yann.lecun.com/exdb/mnist/t10k-images-idx3-ubyte.gz\n",
            "Downloading http://yann.lecun.com/exdb/mnist/t10k-images-idx3-ubyte.gz to content/drive/Mydrive/ANN MNIST/MNIST/raw/t10k-images-idx3-ubyte.gz\n"
          ]
        },
        {
          "output_type": "display_data",
          "data": {
            "text/plain": [
              "  0%|          | 0/1648877 [00:00<?, ?it/s]"
            ],
            "application/vnd.jupyter.widget-view+json": {
              "version_major": 2,
              "version_minor": 0,
              "model_id": "7b7e9940a7824befa527785892aba099"
            }
          },
          "metadata": {}
        },
        {
          "output_type": "stream",
          "name": "stdout",
          "text": [
            "Extracting content/drive/Mydrive/ANN MNIST/MNIST/raw/t10k-images-idx3-ubyte.gz to content/drive/Mydrive/ANN MNIST/MNIST/raw\n",
            "\n",
            "Downloading http://yann.lecun.com/exdb/mnist/t10k-labels-idx1-ubyte.gz\n",
            "Downloading http://yann.lecun.com/exdb/mnist/t10k-labels-idx1-ubyte.gz to content/drive/Mydrive/ANN MNIST/MNIST/raw/t10k-labels-idx1-ubyte.gz\n"
          ]
        },
        {
          "output_type": "display_data",
          "data": {
            "text/plain": [
              "  0%|          | 0/4542 [00:00<?, ?it/s]"
            ],
            "application/vnd.jupyter.widget-view+json": {
              "version_major": 2,
              "version_minor": 0,
              "model_id": "a44156f6635344acadfa11349fa88170"
            }
          },
          "metadata": {}
        },
        {
          "output_type": "stream",
          "name": "stdout",
          "text": [
            "Extracting content/drive/Mydrive/ANN MNIST/MNIST/raw/t10k-labels-idx1-ubyte.gz to content/drive/Mydrive/ANN MNIST/MNIST/raw\n",
            "\n"
          ]
        }
      ]
    },
    {
      "cell_type": "code",
      "source": [
        "test_data = datasets.MNIST(root= path, train=False, download=True, transform =t)"
      ],
      "metadata": {
        "id": "6BFWRRuhnapB"
      },
      "execution_count": null,
      "outputs": []
    },
    {
      "cell_type": "code",
      "source": [
        "train_data"
      ],
      "metadata": {
        "colab": {
          "base_uri": "https://localhost:8080/"
        },
        "id": "JPos4eg9oOeQ",
        "outputId": "d0d8cc56-9567-4ed1-e7ae-111f49c95d08"
      },
      "execution_count": null,
      "outputs": [
        {
          "output_type": "execute_result",
          "data": {
            "text/plain": [
              "Dataset MNIST\n",
              "    Number of datapoints: 60000\n",
              "    Root location: content/drive/Mydrive/ANN MNIST/\n",
              "    Split: Train\n",
              "    StandardTransform\n",
              "Transform: ToTensor()"
            ]
          },
          "metadata": {},
          "execution_count": 8
        }
      ]
    },
    {
      "cell_type": "code",
      "source": [
        "test_data"
      ],
      "metadata": {
        "colab": {
          "base_uri": "https://localhost:8080/"
        },
        "id": "2jPjI2grocRi",
        "outputId": "a65d87f2-238c-49c4-9267-091af47b9f4f"
      },
      "execution_count": null,
      "outputs": [
        {
          "output_type": "execute_result",
          "data": {
            "text/plain": [
              "Dataset MNIST\n",
              "    Number of datapoints: 10000\n",
              "    Root location: content/drive/Mydrive/ANN MNIST/\n",
              "    Split: Test\n",
              "    StandardTransform\n",
              "Transform: ToTensor()"
            ]
          },
          "metadata": {},
          "execution_count": 9
        }
      ]
    },
    {
      "cell_type": "code",
      "source": [
        "ex_image, ex_lab = train_data[0]\n",
        "#plt.imshow(ex_image.reshape(28,28))\n",
        "##plt.imshow(ex_image[0])\n",
        "plt.imshow(torch.squeeze(ex_image), cmap='gist_yarg' ) ##default cmap 'viridis', 'gray can also be used'\n",
        "plt.axis('off')\n",
        "plt.show()\n",
        "\n",
        "## all  these 3 options printing out the results"
      ],
      "metadata": {
        "colab": {
          "base_uri": "https://localhost:8080/",
          "height": 248
        },
        "id": "eLWNzMbIod7T",
        "outputId": "9fb0e101-184f-4992-cda3-f59389630bac"
      },
      "execution_count": null,
      "outputs": [
        {
          "output_type": "display_data",
          "data": {
            "text/plain": [
              "<Figure size 432x288 with 1 Axes>"
            ],
            "image/png": "[encoded data removed]"
          },
          "metadata": {
            "needs_background": "light"
          }
        }
      ]
    },
    {
      "cell_type": "code",
      "source": [
        "## loading in batches\n",
        "torch.manual_seed(21)\n",
        "train_loader = DataLoader(train_data, batch_size=100, shuffle=True)\n",
        "test_loader = DataLoader(test_data, batch_size=500, shuffle=False)"
      ],
      "metadata": {
        "id": "_ymGqZiVpZ1G"
      },
      "execution_count": null,
      "outputs": []
    },
    {
      "cell_type": "code",
      "source": [
        "for img, lab in train_loader:\n",
        "  print(img.size())\n",
        "  print(lab)\n",
        "  break"
      ],
      "metadata": {
        "colab": {
          "base_uri": "https://localhost:8080/"
        },
        "id": "Wxa6mfb9u5Mg",
        "outputId": "60ccf54c-284a-4dd8-e779-925ffe197eea"
      },
      "execution_count": null,
      "outputs": [
        {
          "output_type": "stream",
          "name": "stdout",
          "text": [
            "torch.Size([100, 1, 28, 28])\n",
            "tensor([1, 9, 7, 8, 6, 9, 1, 9, 9, 9, 2, 3, 4, 7, 3, 3, 5, 7, 5, 4, 8, 6, 2, 6,\n",
            "        5, 7, 3, 7, 0, 0, 0, 3, 3, 4, 3, 6, 1, 9, 7, 5, 4, 6, 9, 0, 0, 7, 2, 3,\n",
            "        6, 5, 9, 4, 5, 9, 0, 7, 8, 6, 3, 5, 8, 2, 9, 6, 4, 3, 1, 3, 3, 9, 0, 8,\n",
            "        3, 5, 3, 9, 4, 1, 5, 6, 9, 2, 2, 5, 7, 7, 2, 8, 4, 1, 1, 8, 6, 5, 2, 9,\n",
            "        2, 6, 6, 8])\n"
          ]
        }
      ]
    },
    {
      "cell_type": "code",
      "source": [
        "from torchvision.utils import make_grid\n",
        "\n",
        "print(*lab[:8].numpy(), sep='       ')\n",
        "im_set = make_grid(img[:8])\n",
        "plt.figure(figsize=(8,10))\n",
        "plt.imshow(np.transpose(im_set.numpy(),(1,2,0)))\n",
        "plt.axis('off')\n",
        "plt.show()"
      ],
      "metadata": {
        "colab": {
          "base_uri": "https://localhost:8080/",
          "height": 107
        },
        "id": "TMjoIkZivKyQ",
        "outputId": "0631c268-773c-47e9-e5d6-e286335ced07"
      },
      "execution_count": null,
      "outputs": [
        {
          "output_type": "stream",
          "name": "stdout",
          "text": [
            "1       9       7       8       6       9       1       9\n"
          ]
        },
        {
          "output_type": "display_data",
          "data": {
            "text/plain": [
              "<Figure size 576x720 with 1 Axes>"
            ],
            "image/png": "[encoded data removed]"
          },
          "metadata": {
            "needs_background": "light"
          }
        }
      ]
    },
    {
      "cell_type": "code",
      "source": [
        "q = torch.tensor([1,2,3])\n",
        "q.numpy()"
      ],
      "metadata": {
        "colab": {
          "base_uri": "https://localhost:8080/"
        },
        "id": "_leUfAyjwQJe",
        "outputId": "5d13c62f-7bab-4b92-ccf6-b063e52a15cd"
      },
      "execution_count": null,
      "outputs": [
        {
          "output_type": "execute_result",
          "data": {
            "text/plain": [
              "array([1, 2, 3])"
            ]
          },
          "metadata": {},
          "execution_count": 14
        }
      ]
    },
    {
      "cell_type": "code",
      "source": [
        "## Let's set the ann\n",
        "\n",
        "class myANN(nn.Module):\n",
        "  def __init__(self, inp_size, out_size, hidden=[120,84,42]):\n",
        "    super().__init__()\n",
        "\n",
        "    self.fully_con1 = nn.Linear(inp_size, hidden[0])\n",
        "    self.fully_con2 = nn.Linear(hidden[0], hidden[1])\n",
        "    self.fully_con3 = nn.Linear(hidden[1], hidden[2])\n",
        "    self.fully_con4 = nn.Linear(hidden[2], out_size)\n",
        "\n",
        "  \n",
        "  def forward(self, data):\n",
        "    data = F.relu(self.fully_con1(data))\n",
        "    data = F.sigmoid(self.fully_con2(data))\n",
        "    data = F.relu(self.fully_con3(data))\n",
        "    data = self.fully_con4(data)\n",
        "\n",
        "    return F.log_softmax(data, dim=1) ##why dim=1, not dim=0? dim=0 will give number in batches. dim=1 gives num of samples in a batch\n"
      ],
      "metadata": {
        "id": "7QPX9RZ5wUMl"
      },
      "execution_count": null,
      "outputs": []
    },
    {
      "cell_type": "code",
      "source": [
        "model = myANN(784, 10)\n",
        "model"
      ],
      "metadata": {
        "colab": {
          "base_uri": "https://localhost:8080/"
        },
        "id": "8bzRAAfGDQ6V",
        "outputId": "2b54a33c-7a14-47a2-fc15-7555ecdfebe2"
      },
      "execution_count": null,
      "outputs": [
        {
          "output_type": "execute_result",
          "data": {
            "text/plain": [
              "myANN(\n",
              "  (fully_con1): Linear(in_features=784, out_features=120, bias=True)\n",
              "  (fully_con2): Linear(in_features=120, out_features=84, bias=True)\n",
              "  (fully_con3): Linear(in_features=84, out_features=42, bias=True)\n",
              "  (fully_con4): Linear(in_features=42, out_features=10, bias=True)\n",
              ")"
            ]
          },
          "metadata": {},
          "execution_count": 28
        }
      ]
    },
    {
      "cell_type": "code",
      "source": [
        "tot=1\n",
        "for param in model.parameters():\n",
        "  print(param.numel())\n",
        "  tot *= param.numel()\n",
        "\n",
        "print(f'Total number of paramters: {tot}')"
      ],
      "metadata": {
        "colab": {
          "base_uri": "https://localhost:8080/"
        },
        "id": "gihLg_zADiOQ",
        "outputId": "e0f1c5df-9fc1-4e55-fe9d-a61445781090"
      },
      "execution_count": null,
      "outputs": [
        {
          "output_type": "stream",
          "name": "stdout",
          "text": [
            "94080\n",
            "120\n",
            "10080\n",
            "84\n",
            "3528\n",
            "42\n",
            "420\n",
            "10\n",
            "Total number of paramters: 5949021386597990400000\n"
          ]
        }
      ]
    },
    {
      "cell_type": "code",
      "source": [
        "## Let's set our criterions\n",
        "lr = 0.001\n",
        "criterion = nn.CrossEntropyLoss()\n",
        "optimizer = torch.optim.Adam(model.parameters(), lr = lr)"
      ],
      "metadata": {
        "id": "f8HL5oioDqrh"
      },
      "execution_count": null,
      "outputs": []
    },
    {
      "cell_type": "markdown",
      "source": [
        "Training and evaluating our model"
      ],
      "metadata": {
        "id": "IhJHHuD-Eg8f"
      }
    },
    {
      "cell_type": "code",
      "source": [
        "start = time.time()\n",
        "\n",
        "num_epoch = 16\n",
        "\n",
        "trainLoss, trainCorr, testLoss, testCorr = list(), list(), list(), list()\n",
        "\n",
        "for i in range(num_epoch):\n",
        "  trn_corr = 0\n",
        "  tst_corr = 0\n",
        "\n",
        "  for b_no, (Xtrain, Ytrain) in enumerate(train_loader):\n",
        "    \n",
        "    b_no += 1\n",
        "    Xtrain_flat = Xtrain.view(100,-1) ##100 -->batch size for train\n",
        "    y_pred = model(Xtrain_flat) ##100 predictions returned\n",
        "\n",
        "    loss = criterion(y_pred, Ytrain)\n",
        "\n",
        "    ##  y_pred will be a 10  valued variable with probabilities for different classes\n",
        "\n",
        "    predicted = torch.max(y_pred.data, 1)[1]\n",
        "    batch_corr = (predicted==Ytrain).sum()\n",
        "    trn_corr += batch_corr\n",
        "\n",
        "    optimizer.zero_grad()\n",
        "    loss.backward()\n",
        "    optimizer.step()\n",
        "\n",
        "    if b_no % 200 ==0:\n",
        "      accuracy = trn_corr.item()/b_no\n",
        "      print('EPOCH {} Batch {} LOSS {} Accuracy: {}'.format(i, b_no, loss.item(), accuracy))\n",
        "\n",
        "    \n",
        "  trainLoss.append(loss.item())\n",
        "  trainCorr.append(trn_corr.item())\n",
        "\n",
        "  with torch.no_grad():\n",
        "    ##no_grad ensures weights and biases are not updated\n",
        "    for b_no, (Xtest, Ytest) in enumerate(test_loader):\n",
        "      b_no+=1\n",
        "      y_val = model(Xtest.view(500,-1)) ##batch size in test is 500\n",
        "      predicted = torch.max(y_val.data, 1)[1]\n",
        "\n",
        "      tst_corr += (predicted==Ytest).sum()\n",
        "  \n",
        "  loss = criterion(y_val, Ytest)\n",
        "  testLoss.append(loss.item())\n",
        "  testCorr.append(tst_corr.item())\n",
        "\n",
        "\n",
        "\n",
        "end = time.time()\n",
        "\n",
        "print(\"Total time in training:\", (end-start)/60, 'minutes')"
      ],
      "metadata": {
        "colab": {
          "base_uri": "https://localhost:8080/"
        },
        "id": "rc0qoFLLFH5f",
        "outputId": "56d537bf-d420-4e12-e176-1483da0ec76c"
      },
      "execution_count": null,
      "outputs": [
        {
          "output_type": "stream",
          "name": "stderr",
          "text": [
            "/usr/local/lib/python3.7/dist-packages/torch/nn/functional.py:1806: UserWarning: nn.functional.sigmoid is deprecated. Use torch.sigmoid instead.\n",
            "  warnings.warn(\"nn.functional.sigmoid is deprecated. Use torch.sigmoid instead.\")\n"
          ]
        },
        {
          "output_type": "stream",
          "name": "stdout",
          "text": [
            "EPOCH 0 Batch 200 LOSS 0.0011512705823406577 Accuracy: 99.825\n",
            "EPOCH 0 Batch 400 LOSS 0.004286408424377441 Accuracy: 99.755\n",
            "EPOCH 0 Batch 600 LOSS 0.0038012019358575344 Accuracy: 99.76333333333334\n",
            "EPOCH 1 Batch 200 LOSS 0.080711729824543 Accuracy: 99.705\n",
            "EPOCH 1 Batch 400 LOSS 0.00488869845867157 Accuracy: 99.6425\n",
            "EPOCH 1 Batch 600 LOSS 0.0010939850471913815 Accuracy: 99.64833333333333\n",
            "EPOCH 2 Batch 200 LOSS 0.0022439353633672 Accuracy: 99.765\n",
            "EPOCH 2 Batch 400 LOSS 0.006741112098097801 Accuracy: 99.6925\n",
            "EPOCH 2 Batch 600 LOSS 0.021337656304240227 Accuracy: 99.70333333333333\n",
            "EPOCH 3 Batch 200 LOSS 0.014708186499774456 Accuracy: 99.84\n",
            "EPOCH 3 Batch 400 LOSS 0.0011955593945458531 Accuracy: 99.845\n",
            "EPOCH 3 Batch 600 LOSS 0.0025909170508384705 Accuracy: 99.80666666666667\n",
            "EPOCH 4 Batch 200 LOSS 0.0005590835935436189 Accuracy: 99.895\n",
            "EPOCH 4 Batch 400 LOSS 0.0010243218857795 Accuracy: 99.9225\n",
            "EPOCH 4 Batch 600 LOSS 0.0009700410300865769 Accuracy: 99.88666666666667\n",
            "EPOCH 5 Batch 200 LOSS 0.001750900293700397 Accuracy: 99.685\n",
            "EPOCH 5 Batch 400 LOSS 0.011250241659581661 Accuracy: 99.6275\n",
            "EPOCH 5 Batch 600 LOSS 0.00014589010970667005 Accuracy: 99.65666666666667\n",
            "EPOCH 6 Batch 200 LOSS 0.00964150670915842 Accuracy: 99.825\n",
            "EPOCH 6 Batch 400 LOSS 0.0024095706176012754 Accuracy: 99.83\n",
            "EPOCH 6 Batch 600 LOSS 0.00020335115550551564 Accuracy: 99.81333333333333\n",
            "EPOCH 7 Batch 200 LOSS 0.0021744449622929096 Accuracy: 99.85\n",
            "EPOCH 7 Batch 400 LOSS 0.003064498072490096 Accuracy: 99.8\n",
            "EPOCH 7 Batch 600 LOSS 0.06270014494657516 Accuracy: 99.78666666666666\n",
            "EPOCH 8 Batch 200 LOSS 0.01580868288874626 Accuracy: 99.87\n",
            "EPOCH 8 Batch 400 LOSS 0.0013598122168332338 Accuracy: 99.855\n",
            "EPOCH 8 Batch 600 LOSS 0.05303417518734932 Accuracy: 99.87333333333333\n",
            "EPOCH 9 Batch 200 LOSS 0.00135240878444165 Accuracy: 99.935\n",
            "EPOCH 9 Batch 400 LOSS 0.0012953674886375666 Accuracy: 99.9575\n",
            "EPOCH 9 Batch 600 LOSS 0.0027189699467271566 Accuracy: 99.95666666666666\n",
            "EPOCH 10 Batch 200 LOSS 0.006368798203766346 Accuracy: 99.92\n",
            "EPOCH 10 Batch 400 LOSS 0.011910319328308105 Accuracy: 99.7175\n",
            "EPOCH 10 Batch 600 LOSS 0.012129157781600952 Accuracy: 99.625\n",
            "EPOCH 11 Batch 200 LOSS 0.0026403379160910845 Accuracy: 99.725\n",
            "EPOCH 11 Batch 400 LOSS 0.0018435438396409154 Accuracy: 99.81\n",
            "EPOCH 11 Batch 600 LOSS 0.002267633331939578 Accuracy: 99.83166666666666\n",
            "EPOCH 12 Batch 200 LOSS 5.004361810279079e-05 Accuracy: 99.94\n",
            "EPOCH 12 Batch 400 LOSS 0.001528075896203518 Accuracy: 99.865\n",
            "EPOCH 12 Batch 600 LOSS 0.014516439288854599 Accuracy: 99.84166666666667\n",
            "EPOCH 13 Batch 200 LOSS 0.00035629101330414414 Accuracy: 99.89\n",
            "EPOCH 13 Batch 400 LOSS 0.0005186218768358231 Accuracy: 99.89\n",
            "EPOCH 13 Batch 600 LOSS 0.000485788012156263 Accuracy: 99.89\n",
            "EPOCH 14 Batch 200 LOSS 0.0010277624242007732 Accuracy: 99.995\n",
            "EPOCH 14 Batch 400 LOSS 0.011222371831536293 Accuracy: 99.9925\n",
            "EPOCH 14 Batch 600 LOSS 0.0005239139427430928 Accuracy: 99.995\n",
            "EPOCH 15 Batch 200 LOSS 6.461791053880006e-05 Accuracy: 100.0\n",
            "EPOCH 15 Batch 400 LOSS 0.00024002708960324526 Accuracy: 100.0\n",
            "EPOCH 15 Batch 600 LOSS 9.124018106376752e-05 Accuracy: 100.0\n",
            "Total time in training: 2.1554457426071165 minutes\n"
          ]
        }
      ]
    },
    {
      "cell_type": "code",
      "source": [
        "plt.plot(trainLoss, label='Training Loss')\n",
        "plt.plot(testLoss, label = 'Test Loss')\n",
        "plt.legend()"
      ],
      "metadata": {
        "colab": {
          "base_uri": "https://localhost:8080/",
          "height": 282
        },
        "id": "G2zraliI1wX0",
        "outputId": "b0704e4c-c5ac-4dd4-dc88-e319fb356708"
      },
      "execution_count": null,
      "outputs": [
        {
          "output_type": "execute_result",
          "data": {
            "text/plain": [
              "<matplotlib.legend.Legend at 0x7f8b10d93590>"
            ]
          },
          "metadata": {},
          "execution_count": 54
        },
        {
          "output_type": "display_data",
          "data": {
            "text/plain": [
              "<Figure size 432x288 with 1 Axes>"
            ],
            "image/png": "[encoded data removed]"
          },
          "metadata": {
            "needs_background": "light"
          }
        }
      ]
    },
    {
      "cell_type": "code",
      "source": [
        "trainacc  = [t/600 for t in trainCorr]\n",
        "testacc  = [t/100 for t in testCorr]\n",
        "plt.plot(trainacc, label='Training correct')\n",
        "plt.plot(testacc, label = 'Test Correct')\n",
        "plt.legend()"
      ],
      "metadata": {
        "colab": {
          "base_uri": "https://localhost:8080/",
          "height": 282
        },
        "id": "ggHfDR0yCCXm",
        "outputId": "31743c46-bc52-4fa9-813e-4110adaf5525"
      },
      "execution_count": null,
      "outputs": [
        {
          "output_type": "execute_result",
          "data": {
            "text/plain": [
              "<matplotlib.legend.Legend at 0x7f8b100fb210>"
            ]
          },
          "metadata": {},
          "execution_count": 57
        },
        {
          "output_type": "display_data",
          "data": {
            "text/plain": [
              "<Figure size 432x288 with 1 Axes>"
            ],
            "image/png": "[encoded data removed]"
          },
          "metadata": {
            "needs_background": "light"
          }
        }
      ]
    },
    {
      "cell_type": "code",
      "source": [
        "##testing on whole test data\n",
        "test_load_all = DataLoader(test_data, batch_size=len(test_data), shuffle = True)\n",
        "\n",
        "with torch.no_grad():\n",
        "  correct = 0\n",
        "  for xtest, ytest in test_load_all:\n",
        "    y_val = model(xtest.view(len(xtest),-1))\n",
        "    pred = torch.max(y_val,1)[1]\n",
        "    correct += (pred == ytest).sum()\n"
      ],
      "metadata": {
        "colab": {
          "base_uri": "https://localhost:8080/"
        },
        "id": "EoqjCQt-CooZ",
        "outputId": "a6142919-0680-4c4a-ebec-e0f79d31320c"
      },
      "execution_count": null,
      "outputs": [
        {
          "output_type": "stream",
          "name": "stderr",
          "text": [
            "/usr/local/lib/python3.7/dist-packages/torch/nn/functional.py:1806: UserWarning: nn.functional.sigmoid is deprecated. Use torch.sigmoid instead.\n",
            "  warnings.warn(\"nn.functional.sigmoid is deprecated. Use torch.sigmoid instead.\")\n"
          ]
        }
      ]
    },
    {
      "cell_type": "code",
      "source": [
        "acc = correct.item()/len(test_data)\n",
        "acc*100\n",
        "\n",
        "##Accuracy on unseen test"
      ],
      "metadata": {
        "colab": {
          "base_uri": "https://localhost:8080/"
        },
        "id": "RY2XQxlOHNjV",
        "outputId": "045c2685-262d-4fc0-a8e5-100e3ce5121b"
      },
      "execution_count": null,
      "outputs": [
        {
          "output_type": "execute_result",
          "data": {
            "text/plain": [
              "98.08"
            ]
          },
          "metadata": {},
          "execution_count": 60
        }
      ]
    },
    {
      "cell_type": "code",
      "source": [
        ""
      ],
      "metadata": {
        "id": "PRPI_PTgHdR0"
      },
      "execution_count": null,
      "outputs": []
    },
    {
      "cell_type": "code",
      "source": [
        ""
      ],
      "metadata": {
        "id": "DxtRqr3HZKwl"
      },
      "execution_count": null,
      "outputs": []
    },
    {
      "cell_type": "code",
      "source": [
        ""
      ],
      "metadata": {
        "id": "fmd9h6heZX2G"
      },
      "execution_count": null,
      "outputs": []
    },
    {
      "cell_type": "code",
      "source": [
        ""
      ],
      "metadata": {
        "id": "sndo_S64nKss"
      },
      "execution_count": null,
      "outputs": []
    },
    {
      "cell_type": "code",
      "source": [
        ""
      ],
      "metadata": {
        "id": "4sqtztCZ-tjM"
      },
      "execution_count": null,
      "outputs": []
    },
    {
      "cell_type": "code",
      "source": [
        ""
      ],
      "metadata": {
        "id": "faRxWpoj-uZ8"
      },
      "execution_count": null,
      "outputs": []
    }
  ]
}