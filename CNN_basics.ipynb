{
  "nbformat": 4,
  "nbformat_minor": 0,
  "metadata": {
    "colab": {
      "name": "CNN_basics.ipynb",
      "provenance": [],
      "collapsed_sections": [],
      "authorship_tag": "ABX9TyOagL8ADvvECE+Vf1ewM9DU",
      "include_colab_link": true
    },
    "kernelspec": {
      "name": "python3",
      "display_name": "Python 3"
    },
    "language_info": {
      "name": "python"
    }
  },
  "cells": [
    {
      "cell_type": "markdown",
      "metadata": {
        "id": "view-in-github",
        "colab_type": "text"
      },
      "source": [
        "<a href=\"https://colab.research.google.com/github/ShashwatVv/naiveDL/blob/main/CNN_basics.ipynb\" target=\"_parent\"><img src=\"https://colab.research.google.com/assets/colab-badge.svg\" alt=\"Open In Colab\"/></a>"
      ]
    },
    {
      "cell_type": "code",
      "execution_count": 1,
      "metadata": {
        "id": "683nuJN6f6Cg"
      },
      "outputs": [],
      "source": [
        "import numpy as np\n",
        "from scipy.signal import convolve2d\n",
        "from imageio import imread\n",
        "\n",
        "import matplotlib.pyplot as plt\n",
        "from IPython import display\n",
        "display.set_matplotlib_formats('svg')"
      ]
    },
    {
      "cell_type": "code",
      "source": [
        "## performing convolution\n",
        "\n",
        "imgN = 20 ## dimension n--> for  an image[let's consider nXn for now]\n",
        "image = np.random.randn(imgN, imgN)\n",
        "plt.imshow(image)\n"
      ],
      "metadata": {
        "colab": {
          "base_uri": "https://localhost:8080/",
          "height": 371
        },
        "id": "hrbB2ibSfKFs",
        "outputId": "9a9d4987-68df-4e81-8c97-7cebda3c0b5d"
      },
      "execution_count": 2,
      "outputs": [
        {
          "output_type": "execute_result",
          "data": {
            "text/plain": [
              "<matplotlib.image.AxesImage at 0x7f569993dc50>"
            ]
          },
          "metadata": {},
          "execution_count": 2
        },
        {
          "output_type": "display_data",
          "data": {
            "text/plain": [
              "<Figure size 432x288 with 1 Axes>"
            ],
            "image/svg+xml": "<?xml version=\"1.0\" encoding=\"utf-8\" standalone=\"no\"?>\n<!DOCTYPE svg PUBLIC \"-//W3C//DTD SVG 1.1//EN\"\n  \"http://www.w3.org/Graphics/SVG/1.1/DTD/svg11.dtd\">\n<!-- Created with matplotlib (https://matplotlib.org/) -->\n<svg height=\"248.518125pt\" version=\"1.1\" viewBox=\"0 0 261.105625 248.518125\" width=\"261.105625pt\" xmlns=\"http://www.w3.org/2000/svg\" xmlns:xlink=\"http://www.w3.org/1999/xlink\">\n <defs>\n  <style type=\"text/css\">\n*{stroke-linecap:butt;stroke-linejoin:round;}\n  </style>\n </defs>\n <g id=\"figure_1\">\n  <g id=\"patch_1\">\n   <path d=\"M 0 248.518125 \nL 261.105625 248.518125 \nL 261.105625 0 \nL 0 0 \nz\n\" style=\"fill:none;\"/>\n  </g>\n  <g id=\"axes_1\">\n   <g id=\"patch_2\">\n    <path d=\"M 36.465625 224.64 \nL 253.905625 224.64 \nL 253.905625 7.2 \nL 36.465625 7.2 \nz\n\" style=\"fill:#ffffff;\"/>\n   </g>\n   <g clip-path=\"url(#p4b1f37a77b)\">\n    <image height=\"218\" id=\"imageff68737603\" transform=\"scale(1 -1)translate(0 -218)\" width=\"218\" x=\"36.465625\" xlink:href=\"data:image/png;base64,\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\" y=\"-6.64\"/>\n   </g>\n   <g id=\"matplotlib.axis_1\">\n    <g id=\"xtick_1\">\n     <g id=\"line2d_1\">\n      <defs>\n       <path d=\"M 0 0 \nL 0 3.5 \n\" id=\"ma60326c805\" style=\"stroke:#000000;stroke-width:0.8;\"/>\n      </defs>\n      <g>\n       <use style=\"stroke:#000000;stroke-width:0.8;\" x=\"41.901625\" xlink:href=\"#ma60326c805\" y=\"224.64\"/>\n      </g>\n     </g>\n     <g id=\"text_1\">\n      <!-- 0 -->\n      <defs>\n       <path d=\"M 31.78125 66.40625 \nQ 24.171875 66.40625 20.328125 58.90625 \nQ 16.5 51.421875 16.5 36.375 \nQ 16.5 21.390625 20.328125 13.890625 \nQ 24.171875 6.390625 31.78125 6.390625 \nQ 39.453125 6.390625 43.28125 13.890625 \nQ 47.125 21.390625 47.125 36.375 \nQ 47.125 51.421875 43.28125 58.90625 \nQ 39.453125 66.40625 31.78125 66.40625 \nz\nM 31.78125 74.21875 \nQ 44.046875 74.21875 50.515625 64.515625 \nQ 56.984375 54.828125 56.984375 36.375 \nQ 56.984375 17.96875 50.515625 8.265625 \nQ 44.046875 -1.421875 31.78125 -1.421875 \nQ 19.53125 -1.421875 13.0625 8.265625 \nQ 6.59375 17.96875 6.59375 36.375 \nQ 6.59375 54.828125 13.0625 64.515625 \nQ 19.53125 74.21875 31.78125 74.21875 \nz\n\" id=\"DejaVuSans-48\"/>\n      </defs>\n      <g transform=\"translate(38.720375 239.238438)scale(0.1 -0.1)\">\n       <use xlink:href=\"#DejaVuSans-48\"/>\n      </g>\n     </g>\n    </g>\n    <g id=\"xtick_2\">\n     <g id=\"line2d_2\">\n      <g>\n       <use style=\"stroke:#000000;stroke-width:0.8;\" x=\"96.261625\" xlink:href=\"#ma60326c805\" y=\"224.64\"/>\n      </g>\n     </g>\n     <g id=\"text_2\">\n      <!-- 5 -->\n      <defs>\n       <path d=\"M 10.796875 72.90625 \nL 49.515625 72.90625 \nL 49.515625 64.59375 \nL 19.828125 64.59375 \nL 19.828125 46.734375 \nQ 21.96875 47.46875 24.109375 47.828125 \nQ 26.265625 48.1875 28.421875 48.1875 \nQ 40.625 48.1875 47.75 41.5 \nQ 54.890625 34.8125 54.890625 23.390625 \nQ 54.890625 11.625 47.5625 5.09375 \nQ 40.234375 -1.421875 26.90625 -1.421875 \nQ 22.3125 -1.421875 17.546875 -0.640625 \nQ 12.796875 0.140625 7.71875 1.703125 \nL 7.71875 11.625 \nQ 12.109375 9.234375 16.796875 8.0625 \nQ 21.484375 6.890625 26.703125 6.890625 \nQ 35.15625 6.890625 40.078125 11.328125 \nQ 45.015625 15.765625 45.015625 23.390625 \nQ 45.015625 31 40.078125 35.4375 \nQ 35.15625 39.890625 26.703125 39.890625 \nQ 22.75 39.890625 18.8125 39.015625 \nQ 14.890625 38.140625 10.796875 36.28125 \nz\n\" id=\"DejaVuSans-53\"/>\n      </defs>\n      <g transform=\"translate(93.080375 239.238438)scale(0.1 -0.1)\">\n       <use xlink:href=\"#DejaVuSans-53\"/>\n      </g>\n     </g>\n    </g>\n    <g id=\"xtick_3\">\n     <g id=\"line2d_3\">\n      <g>\n       <use style=\"stroke:#000000;stroke-width:0.8;\" x=\"150.621625\" xlink:href=\"#ma60326c805\" y=\"224.64\"/>\n      </g>\n     </g>\n     <g id=\"text_3\">\n      <!-- 10 -->\n      <defs>\n       <path d=\"M 12.40625 8.296875 \nL 28.515625 8.296875 \nL 28.515625 63.921875 \nL 10.984375 60.40625 \nL 10.984375 69.390625 \nL 28.421875 72.90625 \nL 38.28125 72.90625 \nL 38.28125 8.296875 \nL 54.390625 8.296875 \nL 54.390625 0 \nL 12.40625 0 \nz\n\" id=\"DejaVuSans-49\"/>\n      </defs>\n      <g transform=\"translate(144.259125 239.238438)scale(0.1 -0.1)\">\n       <use xlink:href=\"#DejaVuSans-49\"/>\n       <use x=\"63.623047\" xlink:href=\"#DejaVuSans-48\"/>\n      </g>\n     </g>\n    </g>\n    <g id=\"xtick_4\">\n     <g id=\"line2d_4\">\n      <g>\n       <use style=\"stroke:#000000;stroke-width:0.8;\" x=\"204.981625\" xlink:href=\"#ma60326c805\" y=\"224.64\"/>\n      </g>\n     </g>\n     <g id=\"text_4\">\n      <!-- 15 -->\n      <g transform=\"translate(198.619125 239.238438)scale(0.1 -0.1)\">\n       <use xlink:href=\"#DejaVuSans-49\"/>\n       <use x=\"63.623047\" xlink:href=\"#DejaVuSans-53\"/>\n      </g>\n     </g>\n    </g>\n   </g>\n   <g id=\"matplotlib.axis_2\">\n    <g id=\"ytick_1\">\n     <g id=\"line2d_5\">\n      <defs>\n       <path d=\"M 0 0 \nL -3.5 0 \n\" id=\"mbf1f8ac39f\" style=\"stroke:#000000;stroke-width:0.8;\"/>\n      </defs>\n      <g>\n       <use style=\"stroke:#000000;stroke-width:0.8;\" x=\"36.465625\" xlink:href=\"#mbf1f8ac39f\" y=\"12.636\"/>\n      </g>\n     </g>\n     <g id=\"text_5\">\n      <!-- 0.0 -->\n      <defs>\n       <path d=\"M 10.6875 12.40625 \nL 21 12.40625 \nL 21 0 \nL 10.6875 0 \nz\n\" id=\"DejaVuSans-46\"/>\n      </defs>\n      <g transform=\"translate(13.5625 16.435219)scale(0.1 -0.1)\">\n       <use xlink:href=\"#DejaVuSans-48\"/>\n       <use x=\"63.623047\" xlink:href=\"#DejaVuSans-46\"/>\n       <use x=\"95.410156\" xlink:href=\"#DejaVuSans-48\"/>\n      </g>\n     </g>\n    </g>\n    <g id=\"ytick_2\">\n     <g id=\"line2d_6\">\n      <g>\n       <use style=\"stroke:#000000;stroke-width:0.8;\" x=\"36.465625\" xlink:href=\"#mbf1f8ac39f\" y=\"39.816\"/>\n      </g>\n     </g>\n     <g id=\"text_6\">\n      <!-- 2.5 -->\n      <defs>\n       <path d=\"M 19.1875 8.296875 \nL 53.609375 8.296875 \nL 53.609375 0 \nL 7.328125 0 \nL 7.328125 8.296875 \nQ 12.9375 14.109375 22.625 23.890625 \nQ 32.328125 33.6875 34.8125 36.53125 \nQ 39.546875 41.84375 41.421875 45.53125 \nQ 43.3125 49.21875 43.3125 52.78125 \nQ 43.3125 58.59375 39.234375 62.25 \nQ 35.15625 65.921875 28.609375 65.921875 \nQ 23.96875 65.921875 18.8125 64.3125 \nQ 13.671875 62.703125 7.8125 59.421875 \nL 7.8125 69.390625 \nQ 13.765625 71.78125 18.9375 73 \nQ 24.125 74.21875 28.421875 74.21875 \nQ 39.75 74.21875 46.484375 68.546875 \nQ 53.21875 62.890625 53.21875 53.421875 \nQ 53.21875 48.921875 51.53125 44.890625 \nQ 49.859375 40.875 45.40625 35.40625 \nQ 44.1875 33.984375 37.640625 27.21875 \nQ 31.109375 20.453125 19.1875 8.296875 \nz\n\" id=\"DejaVuSans-50\"/>\n      </defs>\n      <g transform=\"translate(13.5625 43.615219)scale(0.1 -0.1)\">\n       <use xlink:href=\"#DejaVuSans-50\"/>\n       <use x=\"63.623047\" xlink:href=\"#DejaVuSans-46\"/>\n       <use x=\"95.410156\" xlink:href=\"#DejaVuSans-53\"/>\n      </g>\n     </g>\n    </g>\n    <g id=\"ytick_3\">\n     <g id=\"line2d_7\">\n      <g>\n       <use style=\"stroke:#000000;stroke-width:0.8;\" x=\"36.465625\" xlink:href=\"#mbf1f8ac39f\" y=\"66.996\"/>\n      </g>\n     </g>\n     <g id=\"text_7\">\n      <!-- 5.0 -->\n      <g transform=\"translate(13.5625 70.795219)scale(0.1 -0.1)\">\n       <use xlink:href=\"#DejaVuSans-53\"/>\n       <use x=\"63.623047\" xlink:href=\"#DejaVuSans-46\"/>\n       <use x=\"95.410156\" xlink:href=\"#DejaVuSans-48\"/>\n      </g>\n     </g>\n    </g>\n    <g id=\"ytick_4\">\n     <g id=\"line2d_8\">\n      <g>\n       <use style=\"stroke:#000000;stroke-width:0.8;\" x=\"36.465625\" xlink:href=\"#mbf1f8ac39f\" y=\"94.176\"/>\n      </g>\n     </g>\n     <g id=\"text_8\">\n      <!-- 7.5 -->\n      <defs>\n       <path d=\"M 8.203125 72.90625 \nL 55.078125 72.90625 \nL 55.078125 68.703125 \nL 28.609375 0 \nL 18.3125 0 \nL 43.21875 64.59375 \nL 8.203125 64.59375 \nz\n\" id=\"DejaVuSans-55\"/>\n      </defs>\n      <g transform=\"translate(13.5625 97.975219)scale(0.1 -0.1)\">\n       <use xlink:href=\"#DejaVuSans-55\"/>\n       <use x=\"63.623047\" xlink:href=\"#DejaVuSans-46\"/>\n       <use x=\"95.410156\" xlink:href=\"#DejaVuSans-53\"/>\n      </g>\n     </g>\n    </g>\n    <g id=\"ytick_5\">\n     <g id=\"line2d_9\">\n      <g>\n       <use style=\"stroke:#000000;stroke-width:0.8;\" x=\"36.465625\" xlink:href=\"#mbf1f8ac39f\" y=\"121.356\"/>\n      </g>\n     </g>\n     <g id=\"text_9\">\n      <!-- 10.0 -->\n      <g transform=\"translate(7.2 125.155219)scale(0.1 -0.1)\">\n       <use xlink:href=\"#DejaVuSans-49\"/>\n       <use x=\"63.623047\" xlink:href=\"#DejaVuSans-48\"/>\n       <use x=\"127.246094\" xlink:href=\"#DejaVuSans-46\"/>\n       <use x=\"159.033203\" xlink:href=\"#DejaVuSans-48\"/>\n      </g>\n     </g>\n    </g>\n    <g id=\"ytick_6\">\n     <g id=\"line2d_10\">\n      <g>\n       <use style=\"stroke:#000000;stroke-width:0.8;\" x=\"36.465625\" xlink:href=\"#mbf1f8ac39f\" y=\"148.536\"/>\n      </g>\n     </g>\n     <g id=\"text_10\">\n      <!-- 12.5 -->\n      <g transform=\"translate(7.2 152.335219)scale(0.1 -0.1)\">\n       <use xlink:href=\"#DejaVuSans-49\"/>\n       <use x=\"63.623047\" xlink:href=\"#DejaVuSans-50\"/>\n       <use x=\"127.246094\" xlink:href=\"#DejaVuSans-46\"/>\n       <use x=\"159.033203\" xlink:href=\"#DejaVuSans-53\"/>\n      </g>\n     </g>\n    </g>\n    <g id=\"ytick_7\">\n     <g id=\"line2d_11\">\n      <g>\n       <use style=\"stroke:#000000;stroke-width:0.8;\" x=\"36.465625\" xlink:href=\"#mbf1f8ac39f\" y=\"175.716\"/>\n      </g>\n     </g>\n     <g id=\"text_11\">\n      <!-- 15.0 -->\n      <g transform=\"translate(7.2 179.515219)scale(0.1 -0.1)\">\n       <use xlink:href=\"#DejaVuSans-49\"/>\n       <use x=\"63.623047\" xlink:href=\"#DejaVuSans-53\"/>\n       <use x=\"127.246094\" xlink:href=\"#DejaVuSans-46\"/>\n       <use x=\"159.033203\" xlink:href=\"#DejaVuSans-48\"/>\n      </g>\n     </g>\n    </g>\n    <g id=\"ytick_8\">\n     <g id=\"line2d_12\">\n      <g>\n       <use style=\"stroke:#000000;stroke-width:0.8;\" x=\"36.465625\" xlink:href=\"#mbf1f8ac39f\" y=\"202.896\"/>\n      </g>\n     </g>\n     <g id=\"text_12\">\n      <!-- 17.5 -->\n      <g transform=\"translate(7.2 206.695219)scale(0.1 -0.1)\">\n       <use xlink:href=\"#DejaVuSans-49\"/>\n       <use x=\"63.623047\" xlink:href=\"#DejaVuSans-55\"/>\n       <use x=\"127.246094\" xlink:href=\"#DejaVuSans-46\"/>\n       <use x=\"159.033203\" xlink:href=\"#DejaVuSans-53\"/>\n      </g>\n     </g>\n    </g>\n   </g>\n   <g id=\"patch_3\">\n    <path d=\"M 36.465625 224.64 \nL 36.465625 7.2 \n\" style=\"fill:none;stroke:#000000;stroke-linecap:square;stroke-linejoin:miter;stroke-width:0.8;\"/>\n   </g>\n   <g id=\"patch_4\">\n    <path d=\"M 253.905625 224.64 \nL 253.905625 7.2 \n\" style=\"fill:none;stroke:#000000;stroke-linecap:square;stroke-linejoin:miter;stroke-width:0.8;\"/>\n   </g>\n   <g id=\"patch_5\">\n    <path d=\"M 36.465625 224.64 \nL 253.905625 224.64 \n\" style=\"fill:none;stroke:#000000;stroke-linecap:square;stroke-linejoin:miter;stroke-width:0.8;\"/>\n   </g>\n   <g id=\"patch_6\">\n    <path d=\"M 36.465625 7.2 \nL 253.905625 7.2 \n\" style=\"fill:none;stroke:#000000;stroke-linecap:square;stroke-linejoin:miter;stroke-width:0.8;\"/>\n   </g>\n  </g>\n </g>\n <defs>\n  <clipPath id=\"p4b1f37a77b\">\n   <rect height=\"217.44\" width=\"217.44\" x=\"36.465625\" y=\"7.2\"/>\n  </clipPath>\n </defs>\n</svg>\n"
          },
          "metadata": {
            "needs_background": "light"
          }
        }
      ]
    },
    {
      "cell_type": "code",
      "source": [
        "## creating a gaussian kernel\n",
        "kernel = np"
      ],
      "metadata": {
        "id": "DFKiikXufLd8"
      },
      "execution_count": null,
      "outputs": []
    },
    {
      "cell_type": "code",
      "source": [
        ""
      ],
      "metadata": {
        "id": "Pqz3Omo8fNBZ"
      },
      "execution_count": null,
      "outputs": []
    }
  ]
}