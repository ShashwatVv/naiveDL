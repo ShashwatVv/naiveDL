{
  "nbformat": 4,
  "nbformat_minor": 0,
  "metadata": {
    "colab": {
      "name": "Torch Basics revision.ipynb",
      "provenance": [],
      "authorship_tag": "ABX9TyNntTDnYLYHE5cSVeCbQEVY",
      "include_colab_link": true
    },
    "kernelspec": {
      "name": "python3",
      "display_name": "Python 3"
    },
    "language_info": {
      "name": "python"
    }
  },
  "cells": [
    {
      "cell_type": "markdown",
      "metadata": {
        "id": "view-in-github",
        "colab_type": "text"
      },
      "source": [
        "<a href=\"https://colab.research.google.com/github/ShashwatVv/naiveDL/blob/main/Torch_Basics_revision.ipynb\" target=\"_parent\"><img src=\"https://colab.research.google.com/assets/colab-badge.svg\" alt=\"Open In Colab\"/></a>"
      ]
    },
    {
      "cell_type": "code",
      "execution_count": 4,
      "metadata": {
        "id": "R4_Dvw5zQWSL"
      },
      "outputs": [],
      "source": [
        "import torch as tch\n",
        "import numpy as np"
      ]
    },
    {
      "cell_type": "code",
      "source": [
        "##see if the environment is  activated\n",
        "torch.__version__"
      ],
      "metadata": {
        "colab": {
          "base_uri": "https://localhost:8080/",
          "height": 37
        },
        "id": "IiuzSxbPQiCK",
        "outputId": "85958885-aebd-4bd6-f280-f1c9f032ad64"
      },
      "execution_count": 3,
      "outputs": [
        {
          "output_type": "execute_result",
          "data": {
            "text/plain": [
              "'1.10.0+cu111'"
            ],
            "application/vnd.google.colaboratory.intrinsic+json": {
              "type": "string"
            }
          },
          "metadata": {},
          "execution_count": 3
        }
      ]
    },
    {
      "cell_type": "code",
      "source": [
        "a = [1,2,3]\n",
        "a = np.array(a)\n",
        "a.dtype"
      ],
      "metadata": {
        "colab": {
          "base_uri": "https://localhost:8080/"
        },
        "id": "c7dQUFe2QpfA",
        "outputId": "0e2d27d4-e674-495c-af28-7f717718d842"
      },
      "execution_count": 7,
      "outputs": [
        {
          "output_type": "execute_result",
          "data": {
            "text/plain": [
              "dtype('int64')"
            ]
          },
          "metadata": {},
          "execution_count": 7
        }
      ]
    },
    {
      "cell_type": "code",
      "source": [
        "b = tch.tensor(a)"
      ],
      "metadata": {
        "id": "fAKix1sSRBYs"
      },
      "execution_count": 10,
      "outputs": []
    },
    {
      "cell_type": "code",
      "source": [
        "b.dtype"
      ],
      "metadata": {
        "colab": {
          "base_uri": "https://localhost:8080/"
        },
        "id": "Igk6KmnuRKHp",
        "outputId": "ffaa1cbe-3d67-4339-adff-934191dec37b"
      },
      "execution_count": 11,
      "outputs": [
        {
          "output_type": "execute_result",
          "data": {
            "text/plain": [
              "torch.int64"
            ]
          },
          "metadata": {},
          "execution_count": 11
        }
      ]
    },
    {
      "cell_type": "code",
      "source": [
        "c = tch.from_numpy(a)"
      ],
      "metadata": {
        "id": "LL4INLJkRS4c"
      },
      "execution_count": 12,
      "outputs": []
    },
    {
      "cell_type": "code",
      "source": [
        "c.dtype"
      ],
      "metadata": {
        "colab": {
          "base_uri": "https://localhost:8080/"
        },
        "id": "aGC4qaUPRXbV",
        "outputId": "b89a21d6-0f1b-464c-de48-78f6e6572a6e"
      },
      "execution_count": 13,
      "outputs": [
        {
          "output_type": "execute_result",
          "data": {
            "text/plain": [
              "torch.int64"
            ]
          },
          "metadata": {},
          "execution_count": 13
        }
      ]
    },
    {
      "cell_type": "code",
      "source": [
        "print(b)\n",
        "print(c)"
      ],
      "metadata": {
        "colab": {
          "base_uri": "https://localhost:8080/"
        },
        "id": "Q9iLymNqRYu9",
        "outputId": "2079c1b2-60aa-4382-b371-809f4c60e9d8"
      },
      "execution_count": 14,
      "outputs": [
        {
          "output_type": "stream",
          "name": "stdout",
          "text": [
            "tensor([1, 2, 3])\n",
            "tensor([1, 2, 3])\n"
          ]
        }
      ]
    },
    {
      "cell_type": "markdown",
      "source": [
        "Conclusion --> `torch.tensor(X)` and `torch.from_numpy(X)`, both convert numpy array X to a tensor\n",
        "\n",
        "\n",
        "\n"
      ],
      "metadata": {
        "id": "0UsXf_aURccf"
      }
    },
    {
      "cell_type": "code",
      "source": [
        "## torch.as_tensor\n",
        "b = np.array([1,2,3])\n",
        "a = [1,2,3]\n",
        "c = tch.as_tensor(a)\n",
        "d = tch.from_numpy(b)"
      ],
      "metadata": {
        "id": "XI1bbWemRoxB"
      },
      "execution_count": 20,
      "outputs": []
    },
    {
      "cell_type": "markdown",
      "source": [
        "Conclusion --> as_tensor : A more generic version\n",
        "\n"
      ],
      "metadata": {
        "id": "uj7gVN8PSYs0"
      }
    },
    {
      "cell_type": "code",
      "source": [
        "### relationship between original numpy_array and  torch.from_numpy\n",
        "\n",
        "a = [1,2,3,4]\n",
        "b = np.array(a)\n",
        "c = tch.as_tensor(a)\n",
        "d = tch.tensor(b)\n",
        "e = tch.from_numpy(b)\n",
        "print('before')\n",
        "print(a)\n",
        "print(b)\n",
        "print(c)\n",
        "print(d)\n",
        "print(e)\n",
        "a[1]=55\n",
        "b[1] =44 ##numpy array changed here\n",
        "print('after')\n",
        "print(a)\n",
        "print(b)##numpy array changed\n",
        "print(c)\n",
        "print(d)\n",
        "print(e)##tensor created from that numpy array has also changed, due to a direct link "
      ],
      "metadata": {
        "colab": {
          "base_uri": "https://localhost:8080/"
        },
        "id": "FYc2vi7zTC6l",
        "outputId": "67edcc28-e116-4c89-edbe-bebb7e72270d"
      },
      "execution_count": 25,
      "outputs": [
        {
          "output_type": "stream",
          "name": "stdout",
          "text": [
            "before\n",
            "[1, 2, 3, 4]\n",
            "[1 2 3 4]\n",
            "tensor([1, 2, 3, 4])\n",
            "tensor([1, 2, 3, 4])\n",
            "tensor([1, 2, 3, 4])\n",
            "after\n",
            "[1, 55, 3, 4]\n",
            "[ 1 44  3  4]\n",
            "tensor([1, 2, 3, 4])\n",
            "tensor([1, 2, 3, 4])\n",
            "tensor([ 1, 44,  3,  4])\n"
          ]
        }
      ]
    },
    {
      "cell_type": "code",
      "source": [
        ""
      ],
      "metadata": {
        "id": "G_vj0zQ5UN9D"
      },
      "execution_count": null,
      "outputs": []
    }
  ]
}