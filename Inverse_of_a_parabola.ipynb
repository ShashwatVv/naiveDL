{
  "nbformat": 4,
  "nbformat_minor": 0,
  "metadata": {
    "colab": {
      "provenance": [],
      "authorship_tag": "ABX9TyOjBJ/vWYUOPhlGjIV7Lj8c",
      "include_colab_link": true
    },
    "kernelspec": {
      "name": "python3",
      "display_name": "Python 3"
    },
    "language_info": {
      "name": "python"
    }
  },
  "cells": [
    {
      "cell_type": "markdown",
      "metadata": {
        "id": "view-in-github",
        "colab_type": "text"
      },
      "source": [
        "<a href=\"https://colab.research.google.com/github/ShashwatVv/naiveDL/blob/main/Inverse_of_a_parabola.ipynb\" target=\"_parent\"><img src=\"https://colab.research.google.com/assets/colab-badge.svg\" alt=\"Open In Colab\"/></a>"
      ]
    },
    {
      "cell_type": "code",
      "execution_count": null,
      "metadata": {
        "id": "78oYV2DN7FAi"
      },
      "outputs": [],
      "source": [
        "import numpy as np\n",
        "import tensorflow as tf\n",
        "import matplotlib.pyplot as plt"
      ]
    },
    {
      "cell_type": "markdown",
      "source": [
        "$y^2 = x$\n",
        "\n",
        "We need to plot this parabola"
      ],
      "metadata": {
        "id": "AUwFuRkN7Qz0"
      }
    },
    {
      "cell_type": "code",
      "source": [
        "N= 200\n",
        "x = np.random.random(N)"
      ],
      "metadata": {
        "id": "tRYPU3Kr75El"
      },
      "execution_count": 70,
      "outputs": []
    },
    {
      "cell_type": "code",
      "source": [
        "sign_list= (-np.ones(N,))**np.random.randint(2, size=N)\n",
        "Y = np.sqrt(x)*sign_list ##element wise multiplication oftwo numpy arrays"
      ],
      "metadata": {
        "id": "pYreiZi__IQk"
      },
      "execution_count": 79,
      "outputs": []
    },
    {
      "cell_type": "code",
      "source": [
        "##keras architecture with 3 hidden layers\n",
        "\n",
        "act = tf.keras.layers.ReLU()\n",
        "\n",
        "nn_sv = tf.keras.models.Sequential(\n",
        "    [\n",
        "        tf.keras.layers.Dense(10, activation=act, input_shape=(1, )),\n",
        "        tf.keras.layers.Dense(10, activation=act),\n",
        "\n",
        "        tf.keras.layers.Dense(1, activation='linear')\n",
        "    ]\n",
        ")"
      ],
      "metadata": {
        "id": "YLWIfdsC_MdR"
      },
      "execution_count": 72,
      "outputs": []
    },
    {
      "cell_type": "code",
      "source": [
        "##loss function \n",
        "\n",
        "loss_sv = tf.keras.losses.MeanSquaredError()\n",
        "optimizer_sv = tf.keras.optimizers.Adam(learning_rate=0.001)\n",
        "nn_sv.compile(optimizer=optimizer_sv, loss=loss_sv)"
      ],
      "metadata": {
        "id": "oaJGcWz8DBNm"
      },
      "execution_count": 73,
      "outputs": []
    },
    {
      "cell_type": "code",
      "source": [
        "## Now  training\n",
        "\n",
        "results_sv = nn_sv.fit(x, Y, epochs=5, batch_size=5, verbose=1)"
      ],
      "metadata": {
        "colab": {
          "base_uri": "https://localhost:8080/"
        },
        "id": "GSm0EqUJEzAV",
        "outputId": "a0adb445-ecce-4bb4-b8e5-914502865c96"
      },
      "execution_count": 74,
      "outputs": [
        {
          "output_type": "stream",
          "name": "stdout",
          "text": [
            "Epoch 1/5\n",
            "40/40 [==============================] - 0s 2ms/step - loss: 0.5048\n",
            "Epoch 2/5\n",
            "40/40 [==============================] - 0s 1ms/step - loss: 0.4923\n",
            "Epoch 3/5\n",
            "40/40 [==============================] - 0s 2ms/step - loss: 0.4883\n",
            "Epoch 4/5\n",
            "40/40 [==============================] - 0s 2ms/step - loss: 0.4867\n",
            "Epoch 5/5\n",
            "40/40 [==============================] - 0s 2ms/step - loss: 0.4859\n"
          ]
        }
      ]
    },
    {
      "cell_type": "code",
      "source": [
        "pred = nn_sv.predict(x)"
      ],
      "metadata": {
        "id": "kzeiSOjrFcSG"
      },
      "execution_count": 75,
      "outputs": []
    },
    {
      "cell_type": "code",
      "source": [
        "plt.scatter(x, Y, label = 'actual data points', color='lightgray')\n",
        "plt.scatter(x, pred, label='supervised prediction', color='red')\n",
        "plt.xlabel('x')\n",
        "plt.ylabel('y')\n",
        "plt.legend()\n",
        "plt.title('Using standard approach')"
      ],
      "metadata": {
        "colab": {
          "base_uri": "https://localhost:8080/",
          "height": 312
        },
        "id": "vk15IQhVE-Np",
        "outputId": "5c5efa0f-4a36-43ff-d7ca-42a695d3bd57"
      },
      "execution_count": 80,
      "outputs": [
        {
          "output_type": "execute_result",
          "data": {
            "text/plain": [
              "Text(0.5, 1.0, 'Using standard approach')"
            ]
          },
          "metadata": {},
          "execution_count": 80
        },
        {
          "output_type": "display_data",
          "data": {
            "text/plain": [
              "<Figure size 432x288 with 1 Axes>"
            ],
            "image/png": "[encoded data removed]"
          },
          "metadata": {
            "needs_background": "light"
          }
        }
      ]
    },
    {
      "cell_type": "markdown",
      "source": [
        "Differential Physics based"
      ],
      "metadata": {
        "id": "33wGhPpAFwAH"
      }
    },
    {
      "cell_type": "code",
      "source": [
        "model_dp = tf.keras.models.Sequential(\n",
        "    [\n",
        "        tf.keras.layers.Dense(10, activation=act, input_shape=(1,)),\n",
        "        tf.keras.layers.Dense(10, activation=act),\n",
        "        tf.keras.layers.Dense(1, activation='linear')\n",
        "     \n",
        "    ]\n",
        ")"
      ],
      "metadata": {
        "id": "2JH_-7HrbJ6f"
      },
      "execution_count": 90,
      "outputs": []
    },
    {
      "cell_type": "code",
      "source": [
        "optimizer = tf.keras.optimizers.Adam(learning_rate=0.001)\n",
        "mse = tf.keras.losses.MeanSquaredError()"
      ],
      "metadata": {
        "id": "1cQMKeCdbpEC"
      },
      "execution_count": 82,
      "outputs": []
    },
    {
      "cell_type": "code",
      "source": [
        "def loss_dp(ytrue, ypred):\n",
        "  return mse(ytrue, ypred**2)\n",
        "  "
      ],
      "metadata": {
        "id": "YKS486mmb4s5"
      },
      "execution_count": 91,
      "outputs": []
    },
    {
      "cell_type": "code",
      "source": [
        "model_dp.compile(optimizer=optimizer, loss=loss_dp)"
      ],
      "metadata": {
        "id": "VfGN_a7ScIyx"
      },
      "execution_count": 92,
      "outputs": []
    },
    {
      "cell_type": "code",
      "source": [
        "result_dp = model_dp.fit(x, x, epochs=5, batch_size=5, verbose=1)"
      ],
      "metadata": {
        "colab": {
          "base_uri": "https://localhost:8080/"
        },
        "id": "H5KHGZ9PcTJZ",
        "outputId": "5345cfbc-42b2-4138-93c3-8a0af5c9e32f"
      },
      "execution_count": 93,
      "outputs": [
        {
          "output_type": "stream",
          "name": "stdout",
          "text": [
            "Epoch 1/5\n",
            "40/40 [==============================] - 0s 2ms/step - loss: 0.0993\n",
            "Epoch 2/5\n",
            "40/40 [==============================] - 0s 2ms/step - loss: 0.0024\n",
            "Epoch 3/5\n",
            "40/40 [==============================] - 0s 2ms/step - loss: 0.0017\n",
            "Epoch 4/5\n",
            "40/40 [==============================] - 0s 2ms/step - loss: 0.0017\n",
            "Epoch 5/5\n",
            "40/40 [==============================] - 0s 2ms/step - loss: 0.0017\n"
          ]
        }
      ]
    },
    {
      "cell_type": "code",
      "source": [
        "pred_dp = model_dp.predict(x)"
      ],
      "metadata": {
        "id": "-WRojTwLcae4"
      },
      "execution_count": 94,
      "outputs": []
    },
    {
      "cell_type": "code",
      "source": [
        "plt.scatter(x, Y, label = 'actual data points', color='lightgray')\n",
        "plt.scatter(x, pred_dp, label='differential physics approach', color='green')\n",
        "plt.xlabel('x')\n",
        "plt.ylabel('y')\n",
        "plt.legend()\n",
        "plt.title('Using differential physics approach')"
      ],
      "metadata": {
        "colab": {
          "base_uri": "https://localhost:8080/",
          "height": 312
        },
        "id": "vZomNFeMdZu2",
        "outputId": "a2e9a2b8-1207-4d0e-8f87-8dd8ffe566b7"
      },
      "execution_count": 96,
      "outputs": [
        {
          "output_type": "execute_result",
          "data": {
            "text/plain": [
              "Text(0.5, 1.0, 'Using differential physics approach')"
            ]
          },
          "metadata": {},
          "execution_count": 96
        },
        {
          "output_type": "display_data",
          "data": {
            "text/plain": [
              "<Figure size 432x288 with 1 Axes>"
            ],
            "image/png": "[encoded data removed]"
          },
          "metadata": {
            "needs_background": "light"
          }
        }
      ]
    },
    {
      "cell_type": "code",
      "source": [],
      "metadata": {
        "id": "4eHdrCbbdiOH"
      },
      "execution_count": null,
      "outputs": []
    }
  ]
}